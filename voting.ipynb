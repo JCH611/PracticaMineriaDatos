{
 "cells": [
  {
   "cell_type": "markdown",
   "metadata": {},
   "source": [
    "# Clasificación Voting Classifier"
   ]
  },
  {
   "cell_type": "markdown",
   "metadata": {},
   "source": [
    "## Importación de librerías"
   ]
  },
  {
   "cell_type": "code",
   "execution_count": 51,
   "metadata": {},
   "outputs": [],
   "source": [
    "import pandas as pd\n",
    "from sklearn.model_selection import train_test_split, GridSearchCV\n",
    "from sklearn.naive_bayes import GaussianNB\n",
    "from sklearn.linear_model import LogisticRegression\n",
    "from sklearn.ensemble import VotingClassifier\n",
    "from sklearn.neighbors import KNeighborsClassifier\n",
    "from sklearn.ensemble import RandomForestClassifier, GradientBoostingClassifier, AdaBoostClassifier\n",
    "from sklearn.svm import SVC\n",
    "from sklearn.preprocessing import MinMaxScaler\n",
    "from sklearn.metrics import confusion_matrix, classification_report\n",
    "import matplotlib.pyplot as plt"
   ]
  },
  {
   "cell_type": "markdown",
   "metadata": {},
   "source": [
    "## Carga de datos"
   ]
  },
  {
   "cell_type": "code",
   "execution_count": 3,
   "metadata": {},
   "outputs": [
    {
     "name": "stdout",
     "output_type": "stream",
     "text": [
      "Datos cargados exitosamente:\n",
      "train_data: (256326, 31)\n",
      "df_reduce_mrmr: (256326, 11)\n",
      "df_reduce_mrmr_instances: (886, 11)\n",
      "df_reduce_mrmr_instances hard: (886, 11)\n",
      "df_reduce_mrmr_instances_GLVQ: (2, 11)\n",
      "df_X_train_reduce_RFC: (256326, 11)\n",
      "df_reduce_RFC_instances: (886, 11)\n",
      "df_reduce_RFC_instances hard: (886, 11)\n",
      "df_reduce_RFC_instances_GLVQ: (2, 11)\n"
     ]
    }
   ],
   "source": [
    "data_path = './data/'\n",
    "\n",
    "train_data = pd.read_csv(f'{data_path}train_data.csv')\n",
    "test_data = pd.read_csv(f'{data_path}test_data.csv')\n",
    "\n",
    "df_reduce_mrmr = pd.read_csv(f'{data_path}X_train_reduce_mrmr.csv')\n",
    "df_reduce_mrmr_instances = pd.read_csv(f'{data_path}df_reduce_mrmr_instances.csv')\n",
    "df_reduce_mrmr_instances_hard = pd.read_csv(f'{data_path}df_reduce_mrmr_instances_hard.csv')\n",
    "df_reduce_mrmr_instances_GLVQ = pd.read_csv(f'{data_path}df_reduce_mrmr_instances_GLVQ.csv')\n",
    "\n",
    "df_X_train_reduce_RFC = pd.read_csv(f'{data_path}df_X_train_reduce_RFC.csv')\n",
    "df_reduce_RFC_instances = pd.read_csv(f'{data_path}df_reduce_RFC_instances.csv')\n",
    "df_reduce_RFC_instances_hard = pd.read_csv(f'{data_path}df_reduce_RFC_instances_hard.csv')\n",
    "df_reduce_RFC_instances_GLVQ = pd.read_csv(f'{data_path}df_reduce_RFC_instances_GLVQ.csv')\n",
    "\n",
    "print(\"Datos cargados exitosamente:\")\n",
    "print(f\"train_data: {train_data.shape}\")\n",
    "print(f\"df_reduce_mrmr: {df_reduce_mrmr.shape}\")\n",
    "print(f\"df_reduce_mrmr_instances: {df_reduce_mrmr_instances.shape}\")\n",
    "print(f\"df_reduce_mrmr_instances hard: {df_reduce_mrmr_instances_hard.shape}\")\n",
    "print(f\"df_reduce_mrmr_instances_GLVQ: {df_reduce_mrmr_instances_GLVQ.shape}\")\n",
    "print(f\"df_X_train_reduce_RFC: {df_X_train_reduce_RFC.shape}\")\n",
    "print(f\"df_reduce_RFC_instances: {df_reduce_RFC_instances.shape}\")\n",
    "print(f\"df_reduce_RFC_instances hard: {df_reduce_RFC_instances_hard.shape}\")\n",
    "print(f\"df_reduce_RFC_instances_GLVQ: {df_reduce_RFC_instances_GLVQ.shape}\")"
   ]
  },
  {
   "cell_type": "markdown",
   "metadata": {},
   "source": [
    "## Función para entrenar y evaluar Voting Classifier"
   ]
  },
  {
   "cell_type": "markdown",
   "metadata": {},
   "source": [
    "Se ha implementado un Voting Classifier combinando tres modelos: Gaussian Naive Bayes (GaussianNB), Support Vector Machine (SVM) y Random Forest, debido a que tienen fortalezas complementarias y diversidad de enfoques. GaussianNB es un modelo probabilístico que funciona bien con datos que tienen relaciones lineales simples. Por otro lado, SVM es ideal para encontrar fronteras de decisión óptimas, incluso en espacios de alta dimensionalidad o con relaciones no lineales entre características, especialmente cuando se utilizan kernels adecuados. Finalmente, Random Forest aporta robustez y capacidad de generalización al combinar múltiples árboles de decisión y manejar interacciones complejas entre características. Esta combinación permite que el Voting Classifier aproveche las fortalezas individuales de cada modelo, mitigando sus debilidades y asegurando un desempeño más equilibrado y preciso en una amplia variedad de problemas."
   ]
  },
  {
   "cell_type": "code",
   "execution_count": 62,
   "metadata": {},
   "outputs": [],
   "source": [
    "def train_and_evaluate_voting(X, y, test_data, columns_to_keep, hard=False):\n",
    "    X_train, X_test, y_train, y_test = train_test_split(X, y, test_size=0.2, random_state=42)\n",
    "\n",
    "    print(\"Dimensiones de los conjuntos:\")\n",
    "    print(f\"Conjunto de entrenamiento: {X_train.shape}, {y_train.shape}\")\n",
    "    print(f\"Conjunto de prueba: {X_test.shape}, {y_test.shape}\")\n",
    "\n",
    "    clf1 = GaussianNB()\n",
    "    clf2 = RandomForestClassifier(random_state=42)\n",
    "    clf3 = SVC(probability=True, random_state=42)\n",
    "\n",
    "    if hard:\n",
    "        voting_clf = VotingClassifier(estimators=[('nb', clf1), ('rf', clf2), ('svc', clf3)], voting='hard')\n",
    "    else:\n",
    "        voting_clf = VotingClassifier(estimators=[('nb', clf1), ('rf', clf2), ('svc', clf3)], voting='soft')\n",
    "\n",
    "    param_grid = {\n",
    "        'rf__n_estimators': [50, 100, 200],\n",
    "        'rf__max_depth': [5, 10, 20, None],\n",
    "        'svc__C': [0.1, 1, 10],\n",
    "        'svc__kernel': ['linear', 'rbf'],\n",
    "    }\n",
    "    grid_search = GridSearchCV(estimator=voting_clf, param_grid=param_grid, cv=5, verbose=1, n_jobs=-1)\n",
    "    grid_search.fit(X_train, y_train)\n",
    "    print(\"Mejores parámetros encontrados: \", grid_search.best_params_)\n",
    "\n",
    "    best_model = grid_search.best_estimator_\n",
    "    accuracy = best_model.score(X_test, y_test)\n",
    "    print(f\"Precisión en el conjunto de entrenamiento: {accuracy:.2f}\")\n",
    "\n",
    "    X_test_final = test_data[columns_to_keep]\n",
    "    y_test_final = test_data['Class']\n",
    "\n",
    "    scaler = MinMaxScaler()\n",
    "    for col in ['Amount', 'Time']:\n",
    "        if col in X_test_final.columns:\n",
    "            X_test_final[col] = scaler.fit_transform(X_test_final[[col]])\n",
    "\n",
    "    y_pred = best_model.predict(X_test_final)\n",
    "\n",
    "    conf_matrix = confusion_matrix(y_test_final, y_pred)\n",
    "    report = classification_report(y_test_final, y_pred, target_names=['Correctas', 'Fraudulentas'])\n",
    "\n",
    "    print(\"Matriz de confusión:\")\n",
    "    print(conf_matrix)\n",
    "    print(\"\\nReporte de Clasificación:\")\n",
    "    print(report)"
   ]
  },
  {
   "cell_type": "markdown",
   "metadata": {},
   "source": [
    "## Ejemplo con mRMR (ClusterCentroids_soft). Voting = soft"
   ]
  },
  {
   "cell_type": "code",
   "execution_count": 60,
   "metadata": {},
   "outputs": [
    {
     "name": "stdout",
     "output_type": "stream",
     "text": [
      "\n",
      "--- Evaluación con mRMR ClusterCentroids_soft (Voting con modelos simples) ---\n",
      "Dimensiones de los conjuntos:\n",
      "Conjunto de entrenamiento: (708, 10), (708,)\n",
      "Conjunto de prueba: (178, 10), (178,)\n",
      "Fitting 5 folds for each of 72 candidates, totalling 360 fits\n",
      "Mejores parámetros encontrados:  {'rf__max_depth': 10, 'rf__n_estimators': 50, 'svc__C': 0.1, 'svc__kernel': 'linear'}\n",
      "Precisión en el conjunto de entrenamiento: 0.94\n"
     ]
    },
    {
     "name": "stderr",
     "output_type": "stream",
     "text": [
      "C:\\Users\\Usuario\\AppData\\Local\\Temp\\ipykernel_23948\\740924741.py:41: SettingWithCopyWarning: \n",
      "A value is trying to be set on a copy of a slice from a DataFrame.\n",
      "Try using .loc[row_indexer,col_indexer] = value instead\n",
      "\n",
      "See the caveats in the documentation: https://pandas.pydata.org/pandas-docs/stable/user_guide/indexing.html#returning-a-view-versus-a-copy\n",
      "  X_test_final[col] = scaler.fit_transform(X_test_final[[col]])\n",
      "C:\\Users\\Usuario\\AppData\\Local\\Temp\\ipykernel_23948\\740924741.py:41: SettingWithCopyWarning: \n",
      "A value is trying to be set on a copy of a slice from a DataFrame.\n",
      "Try using .loc[row_indexer,col_indexer] = value instead\n",
      "\n",
      "See the caveats in the documentation: https://pandas.pydata.org/pandas-docs/stable/user_guide/indexing.html#returning-a-view-versus-a-copy\n",
      "  X_test_final[col] = scaler.fit_transform(X_test_final[[col]])\n"
     ]
    },
    {
     "name": "stdout",
     "output_type": "stream",
     "text": [
      "Matriz de confusión:\n",
      "[[13249 15183]\n",
      " [    2    47]]\n",
      "\n",
      "Reporte de Clasificación:\n",
      "              precision    recall  f1-score   support\n",
      "\n",
      "   Correctas       1.00      0.47      0.64     28432\n",
      "Fraudulentas       0.00      0.96      0.01        49\n",
      "\n",
      "    accuracy                           0.47     28481\n",
      "   macro avg       0.50      0.71      0.32     28481\n",
      "weighted avg       1.00      0.47      0.63     28481\n",
      "\n"
     ]
    }
   ],
   "source": [
    "X = df_reduce_mrmr_instances.drop(columns=['Class'])\n",
    "y = df_reduce_mrmr_instances['Class']\n",
    "columns_to_keep_mrmr = ['V17', 'Time', 'Amount', 'V25', 'V20', 'V7', 'V13', 'V22', 'V19', 'V23']\n",
    "\n",
    "print(\"\\n--- Evaluación con mRMR ClusterCentroids_soft (Voting con modelos simples) ---\")\n",
    "train_and_evaluate_voting(X, y, test_data, columns_to_keep_mrmr)"
   ]
  },
  {
   "cell_type": "markdown",
   "metadata": {},
   "source": [
    "En los resultados se observa como el modelo entrenado con estos datos no es capaz de hacer clasificaciones correctas, con una precisión de 0.00 y un f1-score de 0.01"
   ]
  },
  {
   "cell_type": "markdown",
   "metadata": {},
   "source": [
    "## Ejemplo con mRMR (ClusterCentroids_soft). Voting = hard"
   ]
  },
  {
   "cell_type": "code",
   "execution_count": 63,
   "metadata": {},
   "outputs": [
    {
     "name": "stdout",
     "output_type": "stream",
     "text": [
      "\n",
      "--- Evaluación con mRMR ClusterCentroids_soft (Voting con modelos simples) ---\n",
      "Dimensiones de los conjuntos:\n",
      "Conjunto de entrenamiento: (708, 10), (708,)\n",
      "Conjunto de prueba: (178, 10), (178,)\n",
      "Fitting 5 folds for each of 72 candidates, totalling 360 fits\n",
      "Mejores parámetros encontrados:  {'rf__max_depth': 10, 'rf__n_estimators': 50, 'svc__C': 10, 'svc__kernel': 'rbf'}\n",
      "Precisión en el conjunto de entrenamiento: 0.94\n"
     ]
    },
    {
     "name": "stderr",
     "output_type": "stream",
     "text": [
      "C:\\Users\\Usuario\\AppData\\Local\\Temp\\ipykernel_23948\\2074022474.py:44: SettingWithCopyWarning: \n",
      "A value is trying to be set on a copy of a slice from a DataFrame.\n",
      "Try using .loc[row_indexer,col_indexer] = value instead\n",
      "\n",
      "See the caveats in the documentation: https://pandas.pydata.org/pandas-docs/stable/user_guide/indexing.html#returning-a-view-versus-a-copy\n",
      "  X_test_final[col] = scaler.fit_transform(X_test_final[[col]])\n",
      "C:\\Users\\Usuario\\AppData\\Local\\Temp\\ipykernel_23948\\2074022474.py:44: SettingWithCopyWarning: \n",
      "A value is trying to be set on a copy of a slice from a DataFrame.\n",
      "Try using .loc[row_indexer,col_indexer] = value instead\n",
      "\n",
      "See the caveats in the documentation: https://pandas.pydata.org/pandas-docs/stable/user_guide/indexing.html#returning-a-view-versus-a-copy\n",
      "  X_test_final[col] = scaler.fit_transform(X_test_final[[col]])\n"
     ]
    },
    {
     "name": "stdout",
     "output_type": "stream",
     "text": [
      "Matriz de confusión:\n",
      "[[16102 12330]\n",
      " [    3    46]]\n",
      "\n",
      "Reporte de Clasificación:\n",
      "              precision    recall  f1-score   support\n",
      "\n",
      "   Correctas       1.00      0.57      0.72     28432\n",
      "Fraudulentas       0.00      0.94      0.01        49\n",
      "\n",
      "    accuracy                           0.57     28481\n",
      "   macro avg       0.50      0.75      0.37     28481\n",
      "weighted avg       1.00      0.57      0.72     28481\n",
      "\n"
     ]
    }
   ],
   "source": [
    "X = df_reduce_mrmr_instances.drop(columns=['Class'])\n",
    "y = df_reduce_mrmr_instances['Class']\n",
    "columns_to_keep_mrmr = ['V17', 'Time', 'Amount', 'V25', 'V20', 'V7', 'V13', 'V22', 'V19', 'V23']\n",
    "\n",
    "print(\"\\n--- Evaluación con mRMR ClusterCentroids_soft (Voting hard con modelos simples) ---\")\n",
    "train_and_evaluate_voting(X, y, test_data, columns_to_keep_mrmr, hard=True)"
   ]
  },
  {
   "cell_type": "markdown",
   "metadata": {},
   "source": [
    "Se observa que usar el método hard de Voting no mejora el resultado."
   ]
  },
  {
   "cell_type": "markdown",
   "metadata": {},
   "source": [
    "## Ejemplo con mRMR (ClusterCentroids_hard). Voting = soft"
   ]
  },
  {
   "cell_type": "code",
   "execution_count": 36,
   "metadata": {},
   "outputs": [
    {
     "name": "stdout",
     "output_type": "stream",
     "text": [
      "\n",
      "--- Evaluación con mRMR ClusterCentroids_hard (Voting con modelos simples) ---\n",
      "Dimensiones de los conjuntos:\n",
      "Conjunto de entrenamiento: (708, 10), (708,)\n",
      "Conjunto de prueba: (178, 10), (178,)\n",
      "Fitting 5 folds for each of 24 candidates, totalling 120 fits\n",
      "Mejores parámetros encontrados:  {'knn__n_neighbors': 5, 'svc__C': 10, 'svc__kernel': 'rbf'}\n",
      "Precisión en el conjunto de entrenamiento: 0.90\n"
     ]
    },
    {
     "name": "stderr",
     "output_type": "stream",
     "text": [
      "C:\\Users\\Usuario\\AppData\\Local\\Temp\\ipykernel_23948\\487571183.py:39: SettingWithCopyWarning: \n",
      "A value is trying to be set on a copy of a slice from a DataFrame.\n",
      "Try using .loc[row_indexer,col_indexer] = value instead\n",
      "\n",
      "See the caveats in the documentation: https://pandas.pydata.org/pandas-docs/stable/user_guide/indexing.html#returning-a-view-versus-a-copy\n",
      "  X_test_final[col] = scaler.fit_transform(X_test_final[[col]])\n",
      "C:\\Users\\Usuario\\AppData\\Local\\Temp\\ipykernel_23948\\487571183.py:39: SettingWithCopyWarning: \n",
      "A value is trying to be set on a copy of a slice from a DataFrame.\n",
      "Try using .loc[row_indexer,col_indexer] = value instead\n",
      "\n",
      "See the caveats in the documentation: https://pandas.pydata.org/pandas-docs/stable/user_guide/indexing.html#returning-a-view-versus-a-copy\n",
      "  X_test_final[col] = scaler.fit_transform(X_test_final[[col]])\n"
     ]
    },
    {
     "name": "stdout",
     "output_type": "stream",
     "text": [
      "Matriz de confusión:\n",
      "[[27463   969]\n",
      " [    5    44]]\n",
      "\n",
      "Reporte de Clasificación:\n",
      "              precision    recall  f1-score   support\n",
      "\n",
      "   Correctas       1.00      0.97      0.98     28432\n",
      "Fraudulentas       0.04      0.90      0.08        49\n",
      "\n",
      "    accuracy                           0.97     28481\n",
      "   macro avg       0.52      0.93      0.53     28481\n",
      "weighted avg       1.00      0.97      0.98     28481\n",
      "\n"
     ]
    }
   ],
   "source": [
    "X = df_reduce_mrmr_instances_hard.drop(columns=['Class'])\n",
    "y = df_reduce_mrmr_instances_hard['Class']\n",
    "columns_to_keep_mrmr = ['V17', 'Time', 'Amount', 'V25', 'V20', 'V7', 'V13', 'V22', 'V19', 'V23']\n",
    "\n",
    "print(\"\\n--- Evaluación con mRMR ClusterCentroids_hard (Voting con modelos simples) ---\")\n",
    "train_and_evaluate_voting(X, y, test_data, columns_to_keep_mrmr)"
   ]
  },
  {
   "cell_type": "markdown",
   "metadata": {},
   "source": [
    "Usando vote hard en la reducción de instancias con cluster centroids, los resultados mejoran ligeramente con un 0.04 de precisión en la clase fraudulenta, y un 0.08 en el f1-score."
   ]
  },
  {
   "cell_type": "markdown",
   "metadata": {},
   "source": [
    "## Ejemplo con mRMR (ClusterCentroids_hard). Voting = hard"
   ]
  },
  {
   "cell_type": "code",
   "execution_count": 70,
   "metadata": {},
   "outputs": [
    {
     "name": "stdout",
     "output_type": "stream",
     "text": [
      "\n",
      "--- Evaluación con mRMR ClusterCentroids_hard (Voting con modelos simples) ---\n",
      "Dimensiones de los conjuntos:\n",
      "Conjunto de entrenamiento: (708, 10), (708,)\n",
      "Conjunto de prueba: (178, 10), (178,)\n",
      "Fitting 5 folds for each of 72 candidates, totalling 360 fits\n",
      "Mejores parámetros encontrados:  {'rf__max_depth': 20, 'rf__n_estimators': 200, 'svc__C': 0.1, 'svc__kernel': 'linear'}\n",
      "Precisión en el conjunto de entrenamiento: 0.91\n"
     ]
    },
    {
     "name": "stderr",
     "output_type": "stream",
     "text": [
      "C:\\Users\\Usuario\\AppData\\Local\\Temp\\ipykernel_23948\\2074022474.py:44: SettingWithCopyWarning: \n",
      "A value is trying to be set on a copy of a slice from a DataFrame.\n",
      "Try using .loc[row_indexer,col_indexer] = value instead\n",
      "\n",
      "See the caveats in the documentation: https://pandas.pydata.org/pandas-docs/stable/user_guide/indexing.html#returning-a-view-versus-a-copy\n",
      "  X_test_final[col] = scaler.fit_transform(X_test_final[[col]])\n",
      "C:\\Users\\Usuario\\AppData\\Local\\Temp\\ipykernel_23948\\2074022474.py:44: SettingWithCopyWarning: \n",
      "A value is trying to be set on a copy of a slice from a DataFrame.\n",
      "Try using .loc[row_indexer,col_indexer] = value instead\n",
      "\n",
      "See the caveats in the documentation: https://pandas.pydata.org/pandas-docs/stable/user_guide/indexing.html#returning-a-view-versus-a-copy\n",
      "  X_test_final[col] = scaler.fit_transform(X_test_final[[col]])\n"
     ]
    },
    {
     "name": "stdout",
     "output_type": "stream",
     "text": [
      "Matriz de confusión:\n",
      "[[27704   728]\n",
      " [    6    43]]\n",
      "\n",
      "Reporte de Clasificación:\n",
      "              precision    recall  f1-score   support\n",
      "\n",
      "   Correctas       1.00      0.97      0.99     28432\n",
      "Fraudulentas       0.06      0.88      0.10        49\n",
      "\n",
      "    accuracy                           0.97     28481\n",
      "   macro avg       0.53      0.93      0.55     28481\n",
      "weighted avg       1.00      0.97      0.99     28481\n",
      "\n"
     ]
    }
   ],
   "source": [
    "X = df_reduce_mrmr_instances_hard.drop(columns=['Class'])\n",
    "y = df_reduce_mrmr_instances_hard['Class']\n",
    "columns_to_keep_mrmr = ['V17', 'Time', 'Amount', 'V25', 'V20', 'V7', 'V13', 'V22', 'V19', 'V23']\n",
    "\n",
    "print(\"\\n--- Evaluación con mRMR ClusterCentroids_hard (Voting con modelos simples) ---\")\n",
    "train_and_evaluate_voting(X, y, test_data, columns_to_keep_mrmr, hard=True)"
   ]
  },
  {
   "cell_type": "markdown",
   "metadata": {},
   "source": [
    "El resultado experimenta una ligera mejora más si se usa el método voting=hard (precision en clase fraudulenta = 0.06 y f1-score en clase fraudulente = 0.10)"
   ]
  },
  {
   "cell_type": "markdown",
   "metadata": {},
   "source": [
    "## Ejemplo con RFC (ClusterCentroids_soft). Voting = soft."
   ]
  },
  {
   "cell_type": "code",
   "execution_count": 65,
   "metadata": {},
   "outputs": [
    {
     "name": "stdout",
     "output_type": "stream",
     "text": [
      "\n",
      "--- Evaluación con RFC ClusterCentroids_soft (Voting Ensemble) ---\n",
      "Dimensiones de los conjuntos:\n",
      "Conjunto de entrenamiento: (708, 10), (708,)\n",
      "Conjunto de prueba: (178, 10), (178,)\n",
      "Fitting 5 folds for each of 72 candidates, totalling 360 fits\n",
      "Mejores parámetros encontrados:  {'rf__max_depth': 20, 'rf__n_estimators': 50, 'svc__C': 0.1, 'svc__kernel': 'linear'}\n",
      "Precisión en el conjunto de entrenamiento: 0.90\n",
      "Matriz de confusión:\n",
      "[[28394    38]\n",
      " [    6    43]]\n",
      "\n",
      "Reporte de Clasificación:\n",
      "              precision    recall  f1-score   support\n",
      "\n",
      "   Correctas       1.00      1.00      1.00     28432\n",
      "Fraudulentas       0.53      0.88      0.66        49\n",
      "\n",
      "    accuracy                           1.00     28481\n",
      "   macro avg       0.77      0.94      0.83     28481\n",
      "weighted avg       1.00      1.00      1.00     28481\n",
      "\n"
     ]
    }
   ],
   "source": [
    "X = df_reduce_RFC_instances.drop(columns=['Class'])\n",
    "y = df_reduce_RFC_instances['Class']\n",
    "columns_to_keep_RFC = ['V17', 'V16', 'V12', 'V14', 'V11', 'V10', 'V9', 'V4', 'V18', 'V7']\n",
    "\n",
    "print(\"\\n--- Evaluación con RFC ClusterCentroids_soft (Voting Ensemble) ---\")\n",
    "train_and_evaluate_voting(X, y, test_data, columns_to_keep_RFC)"
   ]
  },
  {
   "cell_type": "markdown",
   "metadata": {},
   "source": [
    "Vemos como usar RFC para la reducción de características hace que el resultado mejore sustancialmente."
   ]
  },
  {
   "cell_type": "markdown",
   "metadata": {},
   "source": [
    "## Ejemplo con RFC (ClusterCentroids_soft). Voting = Hard"
   ]
  },
  {
   "cell_type": "code",
   "execution_count": 64,
   "metadata": {},
   "outputs": [
    {
     "name": "stdout",
     "output_type": "stream",
     "text": [
      "\n",
      "--- Evaluación con RFC ClusterCentroids_soft (Voting Ensemble) ---\n",
      "Dimensiones de los conjuntos:\n",
      "Conjunto de entrenamiento: (708, 10), (708,)\n",
      "Conjunto de prueba: (178, 10), (178,)\n",
      "Fitting 5 folds for each of 72 candidates, totalling 360 fits\n",
      "Mejores parámetros encontrados:  {'rf__max_depth': 10, 'rf__n_estimators': 50, 'svc__C': 10, 'svc__kernel': 'rbf'}\n",
      "Precisión en el conjunto de entrenamiento: 0.92\n",
      "Matriz de confusión:\n",
      "[[28296   136]\n",
      " [    5    44]]\n",
      "\n",
      "Reporte de Clasificación:\n",
      "              precision    recall  f1-score   support\n",
      "\n",
      "   Correctas       1.00      1.00      1.00     28432\n",
      "Fraudulentas       0.24      0.90      0.38        49\n",
      "\n",
      "    accuracy                           1.00     28481\n",
      "   macro avg       0.62      0.95      0.69     28481\n",
      "weighted avg       1.00      1.00      1.00     28481\n",
      "\n"
     ]
    }
   ],
   "source": [
    "X = df_reduce_RFC_instances.drop(columns=['Class'])\n",
    "y = df_reduce_RFC_instances['Class']\n",
    "columns_to_keep_RFC = ['V17', 'V16', 'V12', 'V14', 'V11', 'V10', 'V9', 'V4', 'V18', 'V7']\n",
    "\n",
    "print(\"\\n--- Evaluación con RFC ClusterCentroids_soft (Voting Ensemble) ---\")\n",
    "train_and_evaluate_voting(X, y, test_data, columns_to_keep_RFC, hard=True)"
   ]
  },
  {
   "cell_type": "markdown",
   "metadata": {},
   "source": [
    "Al cambiar Voting a hard en el clasificador, los resultados obtenidos empeoran pasando de una precisión en la clase fraudulenta de 0.53 a 0.24."
   ]
  },
  {
   "cell_type": "markdown",
   "metadata": {},
   "source": [
    "## Ejemplo con RFC (ClusterCentroids_hard). Voting = soft"
   ]
  },
  {
   "cell_type": "code",
   "execution_count": 37,
   "metadata": {},
   "outputs": [
    {
     "name": "stdout",
     "output_type": "stream",
     "text": [
      "\n",
      "--- Evaluación con RFC ClusterCentroids_soft (Voting Ensemble) ---\n",
      "Dimensiones de los conjuntos:\n",
      "Conjunto de entrenamiento: (708, 10), (708,)\n",
      "Conjunto de prueba: (178, 10), (178,)\n",
      "Fitting 5 folds for each of 24 candidates, totalling 120 fits\n",
      "Mejores parámetros encontrados:  {'knn__n_neighbors': 5, 'svc__C': 0.1, 'svc__kernel': 'linear'}\n",
      "Precisión en el conjunto de entrenamiento: 0.91\n",
      "Matriz de confusión:\n",
      "[[28396    36]\n",
      " [    6    43]]\n",
      "\n",
      "Reporte de Clasificación:\n",
      "              precision    recall  f1-score   support\n",
      "\n",
      "   Correctas       1.00      1.00      1.00     28432\n",
      "Fraudulentas       0.54      0.88      0.67        49\n",
      "\n",
      "    accuracy                           1.00     28481\n",
      "   macro avg       0.77      0.94      0.84     28481\n",
      "weighted avg       1.00      1.00      1.00     28481\n",
      "\n"
     ]
    }
   ],
   "source": [
    "X = df_reduce_RFC_instances_hard.drop(columns=['Class'])\n",
    "y = df_reduce_RFC_instances_hard['Class']\n",
    "columns_to_keep_RFC = ['V17', 'V16', 'V12', 'V14', 'V11', 'V10', 'V9', 'V4', 'V18', 'V7']\n",
    "\n",
    "print(\"\\n--- Evaluación con RFC ClusterCentroids_hard (Voting Ensemble) ---\")\n",
    "train_and_evaluate_voting(X, y, test_data, columns_to_keep_RFC)"
   ]
  },
  {
   "cell_type": "markdown",
   "metadata": {},
   "source": [
    "Usar el método hard en cluster centroids hace que la precision y el f1-score mejoren en un punto de 0.53 a 0.54, y de 0.66 a 0.67 respectivamente."
   ]
  },
  {
   "cell_type": "markdown",
   "metadata": {},
   "source": [
    "## Ejemplo con RFC (ClusterCentroids_hard). Voting = hard"
   ]
  },
  {
   "cell_type": "code",
   "execution_count": 71,
   "metadata": {},
   "outputs": [
    {
     "name": "stdout",
     "output_type": "stream",
     "text": [
      "\n",
      "--- Evaluación con RFC ClusterCentroids_hard (Voting Ensemble) ---\n",
      "Dimensiones de los conjuntos:\n",
      "Conjunto de entrenamiento: (708, 10), (708,)\n",
      "Conjunto de prueba: (178, 10), (178,)\n",
      "Fitting 5 folds for each of 72 candidates, totalling 360 fits\n",
      "Mejores parámetros encontrados:  {'rf__max_depth': 10, 'rf__n_estimators': 100, 'svc__C': 10, 'svc__kernel': 'rbf'}\n",
      "Precisión en el conjunto de entrenamiento: 0.92\n",
      "Matriz de confusión:\n",
      "[[28303   129]\n",
      " [    5    44]]\n",
      "\n",
      "Reporte de Clasificación:\n",
      "              precision    recall  f1-score   support\n",
      "\n",
      "   Correctas       1.00      1.00      1.00     28432\n",
      "Fraudulentas       0.25      0.90      0.40        49\n",
      "\n",
      "    accuracy                           1.00     28481\n",
      "   macro avg       0.63      0.95      0.70     28481\n",
      "weighted avg       1.00      1.00      1.00     28481\n",
      "\n"
     ]
    }
   ],
   "source": [
    "X = df_reduce_RFC_instances_hard.drop(columns=['Class'])\n",
    "y = df_reduce_RFC_instances_hard['Class']\n",
    "columns_to_keep_RFC = ['V17', 'V16', 'V12', 'V14', 'V11', 'V10', 'V9', 'V4', 'V18', 'V7']\n",
    "\n",
    "print(\"\\n--- Evaluación con RFC ClusterCentroids_hard (Voting Ensemble) ---\")\n",
    "train_and_evaluate_voting(X, y, test_data, columns_to_keep_RFC, hard=True)"
   ]
  },
  {
   "cell_type": "markdown",
   "metadata": {},
   "source": [
    "Una vez más, el rendimiento empeora cuando el método de voto en el clasificador es hard."
   ]
  },
  {
   "cell_type": "markdown",
   "metadata": {},
   "source": [
    "## Función para entrenar y evaluar Voting Classifier usando ensembles."
   ]
  },
  {
   "cell_type": "markdown",
   "metadata": {},
   "source": [
    "Se realiza una nueva función para entrenar un Voting Classifier que use tres ensembles en lugar de clasificadores más simples para tratar de obtener una mejora."
   ]
  },
  {
   "cell_type": "code",
   "execution_count": 66,
   "metadata": {},
   "outputs": [],
   "source": [
    "def train_and_evaluate_voting_ensemble(X, y, test_data, columns_to_keep):\n",
    "    X_train, X_test, y_train, y_test = train_test_split(X, y, test_size=0.2, random_state=42)\n",
    "\n",
    "    print(\"Dimensiones de los conjuntos:\")\n",
    "    print(f\"Conjunto de entrenamiento: {X_train.shape}, {y_train.shape}\")\n",
    "    print(f\"Conjunto de prueba: {X_test.shape}, {y_test.shape}\")\n",
    "\n",
    "    clf1 = RandomForestClassifier(random_state=42)\n",
    "    clf2 = GradientBoostingClassifier(random_state=42)\n",
    "    clf3 = AdaBoostClassifier(random_state=42)\n",
    "\n",
    "    voting_clf = VotingClassifier(estimators=[('rf', clf1), ('gb', clf2), ('ada', clf3)], voting='soft')\n",
    "\n",
    "    param_grid = {\n",
    "        'rf__n_estimators': [50, 100, 200],\n",
    "        'rf__max_depth': [5, 10, 20, None],\n",
    "        'gb__n_estimators': [50, 100, 200],\n",
    "        'gb__learning_rate': [0.01, 0.05, 0.1, 0.2],\n",
    "        'ada__n_estimators': [50, 100, 200],\n",
    "    }\n",
    "    grid_search = GridSearchCV(estimator=voting_clf, param_grid=param_grid, cv=5, verbose=1, n_jobs=-1)\n",
    "    grid_search.fit(X_train, y_train)\n",
    "    print(\"Mejores parámetros encontrados: \", grid_search.best_params_)\n",
    "\n",
    "    best_model = grid_search.best_estimator_\n",
    "    accuracy = best_model.score(X_test, y_test)\n",
    "    print(f\"Precisión en el conjunto de entrenamiento: {accuracy:.2f}\")\n",
    "\n",
    "    X_test_final = test_data[columns_to_keep]\n",
    "    y_test_final = test_data['Class']\n",
    "\n",
    "    scaler = MinMaxScaler()\n",
    "    for col in ['Amount', 'Time']:\n",
    "        if col in X_test_final.columns:\n",
    "            X_test_final[col] = scaler.fit_transform(X_test_final[[col]])\n",
    "\n",
    "    y_pred = best_model.predict(X_test_final)\n",
    "\n",
    "    conf_matrix = confusion_matrix(y_test_final, y_pred)\n",
    "    report = classification_report(y_test_final, y_pred, target_names=['Correctas', 'Fraudulentas'])\n",
    "\n",
    "    print(\"Matriz de confusión:\")\n",
    "    print(conf_matrix)\n",
    "    print(\"\\nReporte de Clasificación:\")\n",
    "    print(report)\n"
   ]
  },
  {
   "cell_type": "markdown",
   "metadata": {},
   "source": [
    "## Ejemplo con mRMR (ClusterCentroids_soft)"
   ]
  },
  {
   "cell_type": "code",
   "execution_count": 72,
   "metadata": {},
   "outputs": [
    {
     "name": "stdout",
     "output_type": "stream",
     "text": [
      "\n",
      "--- Evaluación con mRMR ClusterCentroids_soft (Voting con modelos simples) ---\n",
      "Dimensiones de los conjuntos:\n",
      "Conjunto de entrenamiento: (708, 10), (708,)\n",
      "Conjunto de prueba: (178, 10), (178,)\n",
      "Fitting 5 folds for each of 432 candidates, totalling 2160 fits\n",
      "Mejores parámetros encontrados:  {'ada__n_estimators': 50, 'gb__learning_rate': 0.05, 'gb__n_estimators': 200, 'rf__max_depth': 10, 'rf__n_estimators': 50}\n",
      "Precisión en el conjunto de entrenamiento: 0.94\n"
     ]
    },
    {
     "name": "stderr",
     "output_type": "stream",
     "text": [
      "C:\\Users\\Usuario\\AppData\\Local\\Temp\\ipykernel_23948\\2562104302.py:41: SettingWithCopyWarning: \n",
      "A value is trying to be set on a copy of a slice from a DataFrame.\n",
      "Try using .loc[row_indexer,col_indexer] = value instead\n",
      "\n",
      "See the caveats in the documentation: https://pandas.pydata.org/pandas-docs/stable/user_guide/indexing.html#returning-a-view-versus-a-copy\n",
      "  X_test_final[col] = scaler.fit_transform(X_test_final[[col]])\n",
      "C:\\Users\\Usuario\\AppData\\Local\\Temp\\ipykernel_23948\\2562104302.py:41: SettingWithCopyWarning: \n",
      "A value is trying to be set on a copy of a slice from a DataFrame.\n",
      "Try using .loc[row_indexer,col_indexer] = value instead\n",
      "\n",
      "See the caveats in the documentation: https://pandas.pydata.org/pandas-docs/stable/user_guide/indexing.html#returning-a-view-versus-a-copy\n",
      "  X_test_final[col] = scaler.fit_transform(X_test_final[[col]])\n"
     ]
    },
    {
     "name": "stdout",
     "output_type": "stream",
     "text": [
      "Matriz de confusión:\n",
      "[[16301 12131]\n",
      " [    2    47]]\n",
      "\n",
      "Reporte de Clasificación:\n",
      "              precision    recall  f1-score   support\n",
      "\n",
      "   Correctas       1.00      0.57      0.73     28432\n",
      "Fraudulentas       0.00      0.96      0.01        49\n",
      "\n",
      "    accuracy                           0.57     28481\n",
      "   macro avg       0.50      0.77      0.37     28481\n",
      "weighted avg       1.00      0.57      0.73     28481\n",
      "\n"
     ]
    }
   ],
   "source": [
    "X = df_reduce_mrmr_instances.drop(columns=['Class'])\n",
    "y = df_reduce_mrmr_instances['Class']\n",
    "columns_to_keep_mrmr = ['V17', 'Time', 'Amount', 'V25', 'V20', 'V7', 'V13', 'V22', 'V19', 'V23']\n",
    "\n",
    "print(\"\\n--- Evaluación con mRMR ClusterCentroids_soft (Voting con modelos simples) ---\")\n",
    "train_and_evaluate_voting_ensemble(X, y, test_data, columns_to_keep_mrmr)"
   ]
  },
  {
   "cell_type": "markdown",
   "metadata": {},
   "source": [
    "Observamos que con mrMr, el resultado sigue siendo muy malo."
   ]
  },
  {
   "cell_type": "markdown",
   "metadata": {},
   "source": [
    "## Ejemplo con RFC (ClusterCentroids_soft)"
   ]
  },
  {
   "cell_type": "code",
   "execution_count": 67,
   "metadata": {},
   "outputs": [
    {
     "name": "stdout",
     "output_type": "stream",
     "text": [
      "\n",
      "--- Evaluación con RFC ClusterCentroids_soft (Voting Ensemble) ---\n",
      "Dimensiones de los conjuntos:\n",
      "Conjunto de entrenamiento: (708, 10), (708,)\n",
      "Conjunto de prueba: (178, 10), (178,)\n",
      "Fitting 5 folds for each of 432 candidates, totalling 2160 fits\n",
      "Mejores parámetros encontrados:  {'ada__n_estimators': 100, 'gb__learning_rate': 0.01, 'gb__n_estimators': 50, 'rf__max_depth': 10, 'rf__n_estimators': 200}\n",
      "Precisión en el conjunto de entrenamiento: 0.92\n",
      "Matriz de confusión:\n",
      "[[27983   449]\n",
      " [    5    44]]\n",
      "\n",
      "Reporte de Clasificación:\n",
      "              precision    recall  f1-score   support\n",
      "\n",
      "   Correctas       1.00      0.98      0.99     28432\n",
      "Fraudulentas       0.09      0.90      0.16        49\n",
      "\n",
      "    accuracy                           0.98     28481\n",
      "   macro avg       0.54      0.94      0.58     28481\n",
      "weighted avg       1.00      0.98      0.99     28481\n",
      "\n"
     ]
    }
   ],
   "source": [
    "X = df_reduce_RFC_instances.drop(columns=['Class'])\n",
    "y = df_reduce_RFC_instances['Class']\n",
    "columns_to_keep_RFC = ['V17', 'V16', 'V12', 'V14', 'V11', 'V10', 'V9', 'V4', 'V18', 'V7']\n",
    "\n",
    "print(\"\\n--- Evaluación con RFC ClusterCentroids_soft (Voting Ensemble) ---\")\n",
    "train_and_evaluate_voting_ensemble(X, y, test_data, columns_to_keep_RFC)"
   ]
  },
  {
   "cell_type": "markdown",
   "metadata": {},
   "source": [
    "Al observar que con RFC los resultados son tan inferiores a los obtenidos con el anterior modelo, se detiene la experimentación con este nuevo clasificador."
   ]
  },
  {
   "cell_type": "markdown",
   "metadata": {},
   "source": [
    "## Conclusiones\n",
    "Voting=Soft\n",
    "| Modelo                   | Precisión train | Precisión test | f1 test |\n",
    "|--------------------------|-----------------|----------------|---------|\n",
    "| mrMr - CC soft           | 0.94           | 0.00           | 0.01    |\n",
    "| mrMr - CC hard           | 0.90              | 0.04              | 0.08       |\n",
    "| RFC - CC soft            | 0.90           | 0.53           | 0.66    |\n",
    "| RFC - CC hard            | 0.91              | 0.54              | 0.67       |\n",
    "| mrMr - CC soft (ensembles) | 0.94         | 0.00           | 0.01    |\n",
    "| RFC - CC soft (ensembles) | 0.92             | 0.09              | 0.16       |\n",
    "\n",
    "Voting=Hard\n",
    "| Modelo          | Precisión train | Precisión test | f1 test |\n",
    "|------------------|-----------------|----------------|---------|\n",
    "| mrMr - CC soft   | 0.94           | 0.00           | 0.01    |\n",
    "| mrMr - CC hard   | 0.91              | 0.06              | 0.10       |\n",
    "| RFC - CC soft    | 0.92           | 0.24           | 0.38    |\n",
    "| RFC - CC hard    | 0.92              | 0.25              | 0.40       |\n",
    "\n",
    "\n",
    "En ambas tablas, los modelos basados en mrMr - CC soft muestran un alto desempeño en el entrenamiento (Precisión train = 0.94) pero un desempeño extremadamente bajo en las pruebas (Precisión test = 0.00 y f1 test ≈ 0.01). Este comportamiento indica que los modelos mrMr tienen un fuerte sobreajuste, ya que no logran generalizar los resultados en los datos de prueba.\n",
    "\n",
    "Los modelos RFC - CC soft tienen una precisión de entrenamiento menor en comparación con mrMr (0.90 en la primera tabla y 0.92 en la segunda). Sin embargo, logran resultados significativamente mejores en las pruebas:\n",
    "- Tabla 1: Precisión test = 0.53 y f1 test = 0.66.\n",
    "- Tabla 2: Precisión test = 0.24 y f1 test = 0.38.\n",
    "Esto sugiere que los modelos RFC tienen mejor capacidad de generalización que mrMr.\n",
    "\n",
    "En la Tabla 1, el desempeño del ensamble con mrMr no mejora respecto al modelo base (Precisión test = 0.00, f1 test ≈ 0.01). Esto indica que el método de ensamble no logró solucionar el problema de sobreajuste. Además, la baja generalización alcanzada también con RFC indica que el método de ensamble aplicado aquí no logra capturar correctamente las características de los datos de prueba.\n",
    "\n",
    "- Los modelos mrMr tienen un desempeño notablemente pobre en generalización y requieren ajustes para evitar el sobreajuste.\n",
    "- Los modelos RFC, aunque no perfectos, presentan mejores métricas en el conjunto de pruebas.\n",
    "\n",
    "Con voting=hard, los resultados en pruebas tienden a ser más bajos para RFC. Esto podría deberse a que el hard voting introduce más ruido al basarse en decisiones discretas en lugar de promedios ponderados de probabilidad."
   ]
  }
 ],
 "metadata": {
  "kernelspec": {
   "display_name": ".venv",
   "language": "python",
   "name": "python3"
  },
  "language_info": {
   "codemirror_mode": {
    "name": "ipython",
    "version": 3
   },
   "file_extension": ".py",
   "mimetype": "text/x-python",
   "name": "python",
   "nbconvert_exporter": "python",
   "pygments_lexer": "ipython3",
   "version": "3.11.0"
  }
 },
 "nbformat": 4,
 "nbformat_minor": 2
}
