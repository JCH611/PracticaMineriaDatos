{
 "cells": [
  {
   "cell_type": "markdown",
   "id": "4a52a127-119b-4861-8693-2fb5a7e7e43f",
   "metadata": {},
   "source": [
    "#  adaBoost"
   ]
  },
  {
   "cell_type": "code",
   "execution_count": 2,
   "id": "26401231-bb7e-4d58-b4d8-9cedc2fd9acb",
   "metadata": {},
   "outputs": [
    {
     "name": "stdout",
     "output_type": "stream",
     "text": [
      "Datos cargados exitosamente:\n",
      "train_data: (256326, 31)\n",
      "df_reduce_mrmr: (256326, 11)\n",
      "df_reduce_mrmr_instances: (886, 11)\n",
      "df_reduce_mrmr_instances_GLVQ: (2, 11)\n",
      "df_X_train_reduce_RFC: (256326, 11)\n",
      "df_reduce_RFC_instances: (886, 11)\n",
      "df_reduce_RFC_instances_GLVQ: (2, 11)\n"
     ]
    }
   ],
   "source": [
    "import pandas as pd\n",
    "\n",
    "data_path = './data/'\n",
    "\n",
    "\n",
    "train_data = pd.read_csv(f'{data_path}train_data.csv')\n",
    "test_data = pd.read_csv(f'{data_path}test_data.csv')\n",
    "\n",
    "# Selección de características con mrMr\n",
    "df_reduce_mrmr = pd.read_csv(f'{data_path}X_train_reduce_mrmr.csv')\n",
    "df_reduce_mrmr_instances = pd.read_csv(f'{data_path}df_reduce_mrmr_instances.csv')\n",
    "df_reduce_mrmr_instances_hard = pd.read_csv(f'{data_path}df_reduce_mrmr_instances_hard.csv')\n",
    "df_reduce_mrmr_instances_GLVQ = pd.read_csv(f'{data_path}df_reduce_mrmr_instances_GLVQ.csv')\n",
    "\n",
    "# Selección de características con RFC\n",
    "df_X_train_reduce_RFC = pd.read_csv(f'{data_path}df_X_train_reduce_RFC.csv')\n",
    "df_reduce_RFC_instances = pd.read_csv(f'{data_path}df_reduce_RFC_instances.csv')\n",
    "df_reduce_RFC_instances_hard = pd.read_csv(f'{data_path}df_reduce_RFC_instances_hard.csv')\n",
    "df_reduce_RFC_instances_GLVQ = pd.read_csv(f'{data_path}df_reduce_RFC_instances_GLVQ.csv')\n",
    "\n",
    "# Mostrar información sobre los DataFrames cargados\n",
    "print(\"Datos cargados exitosamente:\")\n",
    "print(f\"train_data: {train_data.shape}\")\n",
    "print(f\"df_reduce_mrmr: {df_reduce_mrmr.shape}\")\n",
    "print(f\"df_reduce_mrmr_instances: {df_reduce_mrmr_instances.shape}\")\n",
    "print(f\"df_reduce_mrmr_instances_GLVQ: {df_reduce_mrmr_instances_GLVQ.shape}\")\n",
    "print(f\"df_X_train_reduce_RFC: {df_X_train_reduce_RFC.shape}\")\n",
    "print(f\"df_reduce_RFC_instances: {df_reduce_RFC_instances.shape}\")\n",
    "print(f\"df_reduce_RFC_instances_GLVQ: {df_reduce_RFC_instances_GLVQ.shape}\")\n"
   ]
  },
  {
   "cell_type": "code",
   "execution_count": 20,
   "id": "10878b9e-2ac0-47bb-a753-abbca58981cd",
   "metadata": {},
   "outputs": [],
   "source": [
    "from sklearn.ensemble import AdaBoostClassifier\n",
    "from sklearn.tree import DecisionTreeClassifier\n",
    "from sklearn.linear_model import LogisticRegression\n",
    "from sklearn.svm import SVC\n",
    "from sklearn.metrics import classification_report, confusion_matrix\n",
    "from sklearn.model_selection import train_test_split\n",
    "from sklearn.model_selection import GridSearchCV"
   ]
  },
  {
   "cell_type": "markdown",
   "id": "ff284277-07bd-4ed5-896b-ce4be17f6a04",
   "metadata": {},
   "source": [
    "# adaBoost con mrmr y ClusterCentroids soft"
   ]
  },
  {
   "cell_type": "markdown",
   "id": "0b8e3049-419b-4a53-99ce-8d4fc3f944ca",
   "metadata": {},
   "source": [
    "## DecisionTreeClassifier"
   ]
  },
  {
   "cell_type": "code",
   "execution_count": 8,
   "id": "33e8be71-94a0-40b9-95e1-48476990d28a",
   "metadata": {},
   "outputs": [
    {
     "name": "stdout",
     "output_type": "stream",
     "text": [
      "Dimensiones de los conjuntos:\n",
      "Conjunto de entrenamiento: (708, 10), (708,)\n",
      "Conjunto de prueba: (178, 10), (178,)\n",
      "Mejores parámetros: {'estimator__max_depth': 2, 'learning_rate': 1.0, 'n_estimators': 50}\n",
      "Mejor puntuación de validación cruzada: 0.9562481270602337\n",
      "Informe completo en datos de prueba\n",
      "               precision    recall  f1-score   support\n",
      "\n",
      "           0       0.97      0.99      0.98        89\n",
      "           1       0.99      0.97      0.98        89\n",
      "\n",
      "    accuracy                           0.98       178\n",
      "   macro avg       0.98      0.98      0.98       178\n",
      "weighted avg       0.98      0.98      0.98       178\n",
      "\n"
     ]
    }
   ],
   "source": [
    "X = df_reduce_mrmr_instances.drop(columns=['Class'])\n",
    "y = df_reduce_mrmr_instances['Class']\n",
    "\n",
    "X_train, X_test, y_train, y_test = train_test_split(X, y, test_size=0.2, stratify=y, random_state=42)\n",
    "print(\"Dimensiones de los conjuntos:\")\n",
    "print(f\"Conjunto de entrenamiento: {X_train.shape}, {y_train.shape}\")\n",
    "print(f\"Conjunto de prueba: {X_test.shape}, {y_test.shape}\")\n",
    "\n",
    "base_estimator = DecisionTreeClassifier(max_depth=1)  # Clasificador predeterminado\n",
    "adaboost = AdaBoostClassifier(estimator=base_estimator, random_state=0)\n",
    "\n",
    "\n",
    "param_grid = {\n",
    "    'n_estimators': [10, 50, 100],      # Número de clasificadores débiles\n",
    "    'learning_rate': [0.1, 0.5, 1.0],  # Tasa de aprendizaje\n",
    "    'estimator__max_depth': [1, 2, 3]  # Profundidad del árbol base\n",
    "}\n",
    "\n",
    "# Creamos el GridSearchCV\n",
    "grid_search = GridSearchCV(estimator=adaboost, param_grid=param_grid, cv=5, scoring='accuracy', n_jobs=-1)\n",
    "grid_search.fit(X_train, y_train)\n",
    "\n",
    "# Mostramos los mejores parámetros y el desempeño\n",
    "print(\"Mejores parámetros:\", grid_search.best_params_)\n",
    "print(\"Mejor puntuación de validación cruzada:\", grid_search.best_score_)\n",
    "\n",
    "# Evaluamos el mejor modelo en los datos de prueba\n",
    "best_model = grid_search.best_estimator_\n",
    "y_pred = best_model.predict(X_test)\n",
    "print(\"Informe completo en datos de prueba\\n\", classification_report(y_test, y_pred))"
   ]
  },
  {
   "cell_type": "markdown",
   "id": "73ec601c-aa44-4661-a709-4cbfae2878e2",
   "metadata": {},
   "source": [
    "### Aplicamos adaBoost con los mejores parámetros en el conjunto de test"
   ]
  },
  {
   "cell_type": "code",
   "execution_count": 9,
   "id": "7874a02d-10a3-4549-859d-27f0bbfe2aac",
   "metadata": {},
   "outputs": [
    {
     "name": "stdout",
     "output_type": "stream",
     "text": [
      "Class\n",
      "0    28432\n",
      "1       49\n",
      "Name: count, dtype: int64\n"
     ]
    },
    {
     "name": "stderr",
     "output_type": "stream",
     "text": [
      "C:\\Users\\maris\\AppData\\Local\\Temp\\ipykernel_9080\\3588149006.py:11: SettingWithCopyWarning: \n",
      "A value is trying to be set on a copy of a slice from a DataFrame.\n",
      "Try using .loc[row_indexer,col_indexer] = value instead\n",
      "\n",
      "See the caveats in the documentation: https://pandas.pydata.org/pandas-docs/stable/user_guide/indexing.html#returning-a-view-versus-a-copy\n",
      "  X_reduce['Amount'] = scaler.fit_transform(X_reduce[['Amount']])\n",
      "C:\\Users\\maris\\AppData\\Local\\Temp\\ipykernel_9080\\3588149006.py:12: SettingWithCopyWarning: \n",
      "A value is trying to be set on a copy of a slice from a DataFrame.\n",
      "Try using .loc[row_indexer,col_indexer] = value instead\n",
      "\n",
      "See the caveats in the documentation: https://pandas.pydata.org/pandas-docs/stable/user_guide/indexing.html#returning-a-view-versus-a-copy\n",
      "  X_reduce['Time'] = scaler.fit_transform(X_reduce[['Time']])\n"
     ]
    }
   ],
   "source": [
    "from sklearn.preprocessing import MinMaxScaler\n",
    "# Cogemos los datos de test y les eliminamos las cracterísticas que no necesitamos\n",
    "X = test_data.drop(columns=['Class'])\n",
    "y_test_final = test_data['Class']\n",
    "columns_to_keep_mrmr = ['V17', 'Time', 'Amount', 'V25', 'V20', 'V7', 'V13', 'V22', 'V19', 'V23']\n",
    "X_reduce = X[columns_to_keep_mrmr]\n",
    "\n",
    "#normalizamos la entrada\n",
    "scaler = MinMaxScaler()\n",
    "# Normalizar las columnas\n",
    "X_reduce['Amount'] = scaler.fit_transform(X_reduce[['Amount']])\n",
    "X_reduce['Time'] = scaler.fit_transform(X_reduce[['Time']])\n",
    "\n",
    "print(y_test_final.value_counts())"
   ]
  },
  {
   "cell_type": "code",
   "execution_count": 13,
   "id": "595dddfd-b73d-44bf-8c0b-8d7dc00334d8",
   "metadata": {},
   "outputs": [
    {
     "name": "stdout",
     "output_type": "stream",
     "text": [
      "Matriz de confusión:\n",
      "[[14622 13810]\n",
      " [    2    47]]\n",
      "Reporte de Clasificación:\n",
      "              precision    recall  f1-score   support\n",
      "\n",
      "   Correctas       1.00      0.51      0.68     28432\n",
      "Fraudulentas       0.00      0.96      0.01        49\n",
      "\n",
      "    accuracy                           0.52     28481\n",
      "   macro avg       0.50      0.74      0.34     28481\n",
      "weighted avg       1.00      0.52      0.68     28481\n",
      "\n"
     ]
    }
   ],
   "source": [
    "# Configura el modelo con los mejores parámetros\n",
    "base_estimator = DecisionTreeClassifier(max_depth=2) \n",
    "adaboost = AdaBoostClassifier(\n",
    "    estimator=base_estimator,\n",
    "    n_estimators=50,         \n",
    "    learning_rate=1.0,       \n",
    "    random_state=0           \n",
    ")\n",
    "\n",
    "\n",
    "X = df_reduce_mrmr_instances.drop(columns=['Class'])\n",
    "y = df_reduce_mrmr_instances['Class']\n",
    "\n",
    "# Entrenamos el modelo con los datos de entrenamiento\n",
    "adaboost.fit(X, y)\n",
    "\n",
    "# Evalúa el modelo en los datos de prueba\n",
    "y_pred_tree = adaboost.predict(X_reduce)\n",
    "\n",
    "# Calcular la matriz de confusión\n",
    "conf_matrix = confusion_matrix(y_test_final, y_pred_tree)\n",
    "report = classification_report(y_test_final, y_pred_tree, target_names=['Correctas', 'Fraudulentas'])\n",
    "# Mostrar la matriz de confusión\n",
    "print(\"Matriz de confusión:\")\n",
    "print(conf_matrix)\n",
    "\n",
    "print(\"Reporte de Clasificación:\")\n",
    "print(report)"
   ]
  },
  {
   "cell_type": "markdown",
   "id": "07e9faf3-7bb7-48b2-8342-c97eaf299833",
   "metadata": {},
   "source": [
    "Probamos otros clasificadores débiles como LogisticRegression o SVM."
   ]
  },
  {
   "cell_type": "markdown",
   "id": "6bc6186d-219d-4ca4-9ccc-66eaed575486",
   "metadata": {},
   "source": [
    "## LogisticRegression"
   ]
  },
  {
   "cell_type": "code",
   "execution_count": 14,
   "id": "e5799899-a30c-481e-96de-4290e0710a0e",
   "metadata": {},
   "outputs": [
    {
     "name": "stdout",
     "output_type": "stream",
     "text": [
      "Dimensiones de los conjuntos:\n",
      "Conjunto de entrenamiento: (708, 10), (708,)\n",
      "Conjunto de prueba: (178, 10), (178,)\n",
      "Mejores parámetros: {'learning_rate': 0.1, 'n_estimators': 50}\n",
      "Mejor puntuación de validación cruzada: 0.8390070921985815\n",
      "Informe completo en datos de prueba\n",
      "               precision    recall  f1-score   support\n",
      "\n",
      "           0       0.80      0.98      0.88        89\n",
      "           1       0.97      0.75      0.85        89\n",
      "\n",
      "    accuracy                           0.87       178\n",
      "   macro avg       0.88      0.87      0.86       178\n",
      "weighted avg       0.88      0.87      0.86       178\n",
      "\n"
     ]
    }
   ],
   "source": [
    "X = df_reduce_mrmr_instances.drop(columns=['Class'])\n",
    "y = df_reduce_mrmr_instances['Class']\n",
    "\n",
    "X_train, X_test, y_train, y_test = train_test_split(X, y, test_size=0.2, stratify=y, random_state=42)\n",
    "print(\"Dimensiones de los conjuntos:\")\n",
    "print(f\"Conjunto de entrenamiento: {X_train.shape}, {y_train.shape}\")\n",
    "print(f\"Conjunto de prueba: {X_test.shape}, {y_test.shape}\")\n",
    "\n",
    "base_estimator=LogisticRegression(max_iter=1000)  \n",
    "adaboost = AdaBoostClassifier(estimator=base_estimator, random_state=0)\n",
    "\n",
    "\n",
    "param_grid = {\n",
    "    'n_estimators': [10, 50, 100],      # Número de clasificadores débiles\n",
    "    'learning_rate': [0.1, 0.5, 1.0],  # Tasa de aprendizaje\n",
    "}\n",
    "\n",
    "# Creamos el GridSearchCV\n",
    "grid_search = GridSearchCV(estimator=adaboost, param_grid=param_grid, cv=5, scoring='accuracy', n_jobs=-1)\n",
    "grid_search.fit(X_train, y_train)\n",
    "\n",
    "# Mostramos los mejores parámetros y el desempeño\n",
    "print(\"Mejores parámetros:\", grid_search.best_params_)\n",
    "print(\"Mejor puntuación de validación cruzada:\", grid_search.best_score_)\n",
    "\n",
    "# Evaluamos el mejor modelo en los datos de prueba\n",
    "best_model = grid_search.best_estimator_\n",
    "y_pred = best_model.predict(X_test)\n",
    "print(\"Informe completo en datos de prueba\\n\", classification_report(y_test, y_pred))"
   ]
  },
  {
   "cell_type": "markdown",
   "id": "6c5ca05a-d822-4324-a41d-542d9aecc53f",
   "metadata": {},
   "source": [
    "### Aplicamos adaBoost con los mejores parámetros en el conjunto de test"
   ]
  },
  {
   "cell_type": "code",
   "execution_count": 15,
   "id": "70174808-513a-48ae-aba0-c2d1f6d9e556",
   "metadata": {},
   "outputs": [
    {
     "name": "stdout",
     "output_type": "stream",
     "text": [
      "Matriz de confusión:\n",
      "[[26546  1886]\n",
      " [   11    38]]\n",
      "Reporte de Clasificación:\n",
      "              precision    recall  f1-score   support\n",
      "\n",
      "   Correctas       1.00      0.93      0.97     28432\n",
      "Fraudulentas       0.02      0.78      0.04        49\n",
      "\n",
      "    accuracy                           0.93     28481\n",
      "   macro avg       0.51      0.85      0.50     28481\n",
      "weighted avg       1.00      0.93      0.96     28481\n",
      "\n"
     ]
    }
   ],
   "source": [
    "# Configura el modelo con los mejores parámetros\n",
    "base_estimator = LogisticRegression(max_iter=1000)   \n",
    "adaboost = AdaBoostClassifier(\n",
    "    estimator=base_estimator,\n",
    "    n_estimators=50,         \n",
    "    learning_rate=0.1,       \n",
    "    random_state=0           \n",
    ")\n",
    "\n",
    "\n",
    "X = df_reduce_mrmr_instances.drop(columns=['Class'])\n",
    "y = df_reduce_mrmr_instances['Class']\n",
    "\n",
    "# Entrenamos el modelo con los datos de entrenamiento\n",
    "adaboost.fit(X, y)\n",
    "\n",
    "# Evalúa el modelo en los datos de prueba\n",
    "y_pred_lr = adaboost.predict(X_reduce)\n",
    "\n",
    "# Calcular la matriz de confusión\n",
    "conf_matrix = confusion_matrix(y_test_final, y_pred_lr)\n",
    "report = classification_report(y_test_final, y_pred_lr, target_names=['Correctas', 'Fraudulentas'])\n",
    "# Mostrar la matriz de confusión\n",
    "print(\"Matriz de confusión:\")\n",
    "print(conf_matrix)\n",
    "\n",
    "print(\"Reporte de Clasificación:\")\n",
    "print(report)"
   ]
  },
  {
   "cell_type": "markdown",
   "id": "8546b10f-7b0b-4922-b389-fdeaa76e5e06",
   "metadata": {},
   "source": [
    "## SVM"
   ]
  },
  {
   "cell_type": "code",
   "execution_count": 19,
   "id": "465f4e6e-0621-4f7a-ab3a-0f220dee957b",
   "metadata": {},
   "outputs": [
    {
     "name": "stdout",
     "output_type": "stream",
     "text": [
      "Dimensiones de los conjuntos:\n",
      "Conjunto de entrenamiento: (708, 10), (708,)\n",
      "Conjunto de prueba: (178, 10), (178,)\n",
      "Mejores parámetros: {'estimator__C': 10, 'learning_rate': 0.1, 'n_estimators': 10}\n",
      "Mejor puntuación de validación cruzada: 0.8460493457197084\n",
      "Informe completo en datos de prueba\n",
      "               precision    recall  f1-score   support\n",
      "\n",
      "           0       0.77      1.00      0.87        89\n",
      "           1       1.00      0.71      0.83        89\n",
      "\n",
      "    accuracy                           0.85       178\n",
      "   macro avg       0.89      0.85      0.85       178\n",
      "weighted avg       0.89      0.85      0.85       178\n",
      "\n"
     ]
    }
   ],
   "source": [
    "X = df_reduce_mrmr_instances.drop(columns=['Class'])\n",
    "y = df_reduce_mrmr_instances['Class']\n",
    "from sklearn.svm import SVC\n",
    "\n",
    "X_train, X_test, y_train, y_test = train_test_split(X, y, test_size=0.2, stratify=y, random_state=42)\n",
    "print(\"Dimensiones de los conjuntos:\")\n",
    "print(f\"Conjunto de entrenamiento: {X_train.shape}, {y_train.shape}\")\n",
    "print(f\"Conjunto de prueba: {X_test.shape}, {y_test.shape}\")\n",
    "\n",
    "base_estimator = SVC(kernel='linear', random_state=0) \n",
    "adaboost = AdaBoostClassifier(estimator=base_estimator, random_state=0)\n",
    "\n",
    "\n",
    "param_grid = {\n",
    "    'n_estimators': [10, 50, 100],      # Número de clasificadores débiles\n",
    "    'learning_rate': [0.1, 0.5, 1.0],  # Tasa de aprendizaje\n",
    "    'estimator__C': [0.1, 1, 10]\n",
    "}\n",
    "\n",
    "# Creamos el GridSearchCV\n",
    "grid_search = GridSearchCV(estimator=adaboost, param_grid=param_grid, cv=5, scoring='accuracy', n_jobs=-1)\n",
    "grid_search.fit(X_train, y_train)\n",
    "\n",
    "# Mostramos los mejores parámetros y el desempeño\n",
    "print(\"Mejores parámetros:\", grid_search.best_params_)\n",
    "print(\"Mejor puntuación de validación cruzada:\", grid_search.best_score_)\n",
    "\n",
    "# Evaluamos el mejor modelo en los datos de prueba\n",
    "best_model = grid_search.best_estimator_\n",
    "y_pred = best_model.predict(X_test)\n",
    "print(\"Informe completo en datos de prueba\\n\", classification_report(y_test, y_pred))"
   ]
  },
  {
   "cell_type": "markdown",
   "id": "19c14c5e-8c9b-4a65-a8c3-25327d5d8dce",
   "metadata": {},
   "source": [
    "### Aplicamos adaBoost con los mejores parámetros en el conjunto de test"
   ]
  },
  {
   "cell_type": "code",
   "execution_count": 21,
   "id": "9d604088-91b6-4790-bcf4-61d492a7ab56",
   "metadata": {},
   "outputs": [
    {
     "name": "stdout",
     "output_type": "stream",
     "text": [
      "Matriz de confusión:\n",
      "[[28365    67]\n",
      " [   14    35]]\n",
      "Reporte de Clasificación:\n",
      "              precision    recall  f1-score   support\n",
      "\n",
      "   Correctas       1.00      1.00      1.00     28432\n",
      "Fraudulentas       0.34      0.71      0.46        49\n",
      "\n",
      "    accuracy                           1.00     28481\n",
      "   macro avg       0.67      0.86      0.73     28481\n",
      "weighted avg       1.00      1.00      1.00     28481\n",
      "\n"
     ]
    }
   ],
   "source": [
    "# Configura el modelo con los mejores parámetros\n",
    "base_estimator = SVC(kernel='linear', random_state=0, C=10)   \n",
    "adaboost = AdaBoostClassifier(\n",
    "    estimator=base_estimator,\n",
    "    n_estimators=10,         \n",
    "    learning_rate=0.1,       \n",
    "    random_state=0           \n",
    ")\n",
    "\n",
    "\n",
    "X = df_reduce_mrmr_instances.drop(columns=['Class'])\n",
    "y = df_reduce_mrmr_instances['Class']\n",
    "\n",
    "# Entrenamos el modelo con los datos de entrenamiento\n",
    "adaboost.fit(X, y)\n",
    "\n",
    "# Evalúa el modelo en los datos de prueba\n",
    "y_pred_lr = adaboost.predict(X_reduce)\n",
    "\n",
    "# Calcular la matriz de confusión\n",
    "conf_matrix = confusion_matrix(y_test_final, y_pred_lr)\n",
    "report = classification_report(y_test_final, y_pred_lr, target_names=['Correctas', 'Fraudulentas'])\n",
    "# Mostrar la matriz de confusión\n",
    "print(\"Matriz de confusión:\")\n",
    "print(conf_matrix)\n",
    "\n",
    "print(\"Reporte de Clasificación:\")\n",
    "print(report)"
   ]
  },
  {
   "cell_type": "markdown",
   "id": "18a4a28d-212a-4599-a5cb-44cb61fbcb8f",
   "metadata": {},
   "source": [
    "# adaBoost con mrmr y ClusterCentroids hard"
   ]
  },
  {
   "cell_type": "markdown",
   "id": "680bde14-7479-4b8f-810f-affcc71cd33c",
   "metadata": {},
   "source": [
    "## DecisionTreeClassifier"
   ]
  },
  {
   "cell_type": "code",
   "execution_count": 22,
   "id": "a39510dd-6c6a-4187-abc3-612168c4abae",
   "metadata": {},
   "outputs": [
    {
     "name": "stdout",
     "output_type": "stream",
     "text": [
      "Dimensiones de los conjuntos:\n",
      "Conjunto de entrenamiento: (708, 10), (708,)\n",
      "Conjunto de prueba: (178, 10), (178,)\n",
      "Mejores parámetros: {'estimator__max_depth': 3, 'learning_rate': 0.5, 'n_estimators': 100}\n",
      "Mejor puntuación de validación cruzada: 0.9139047048246928\n",
      "Informe completo en datos de prueba\n",
      "               precision    recall  f1-score   support\n",
      "\n",
      "           0       0.87      0.93      0.90        89\n",
      "           1       0.93      0.87      0.90        89\n",
      "\n",
      "    accuracy                           0.90       178\n",
      "   macro avg       0.90      0.90      0.90       178\n",
      "weighted avg       0.90      0.90      0.90       178\n",
      "\n"
     ]
    }
   ],
   "source": [
    "X = df_reduce_mrmr_instances_hard.drop(columns=['Class'])\n",
    "y = df_reduce_mrmr_instances_hard['Class']\n",
    "\n",
    "X_train, X_test, y_train, y_test = train_test_split(X, y, test_size=0.2, stratify=y, random_state=42)\n",
    "print(\"Dimensiones de los conjuntos:\")\n",
    "print(f\"Conjunto de entrenamiento: {X_train.shape}, {y_train.shape}\")\n",
    "print(f\"Conjunto de prueba: {X_test.shape}, {y_test.shape}\")\n",
    "\n",
    "base_estimator = DecisionTreeClassifier(max_depth=1)  # Clasificador predeterminado\n",
    "adaboost = AdaBoostClassifier(estimator=base_estimator, random_state=0)\n",
    "\n",
    "\n",
    "param_grid = {\n",
    "    'n_estimators': [10, 50, 100],      # Número de clasificadores débiles\n",
    "    'learning_rate': [0.1, 0.5, 1.0],  # Tasa de aprendizaje\n",
    "    'estimator__max_depth': [1, 2, 3]  # Profundidad del árbol base\n",
    "}\n",
    "\n",
    "# Creamos el GridSearchCV\n",
    "grid_search = GridSearchCV(estimator=adaboost, param_grid=param_grid, cv=5, scoring='accuracy', n_jobs=-1)\n",
    "grid_search.fit(X_train, y_train)\n",
    "\n",
    "# Mostramos los mejores parámetros y el desempeño\n",
    "print(\"Mejores parámetros:\", grid_search.best_params_)\n",
    "print(\"Mejor puntuación de validación cruzada:\", grid_search.best_score_)\n",
    "\n",
    "# Evaluamos el mejor modelo en los datos de prueba\n",
    "best_model = grid_search.best_estimator_\n",
    "y_pred = best_model.predict(X_test)\n",
    "print(\"Informe completo en datos de prueba\\n\", classification_report(y_test, y_pred))"
   ]
  },
  {
   "cell_type": "markdown",
   "id": "729c40e5-dc2f-4dda-875d-5760bc2bae6d",
   "metadata": {},
   "source": [
    "### Aplicamos adaBoost con los mejores parámetros en el conjunto de test"
   ]
  },
  {
   "cell_type": "code",
   "execution_count": 23,
   "id": "37b9c3fa-3df1-4f7a-bca6-3d2861799f3e",
   "metadata": {},
   "outputs": [
    {
     "name": "stdout",
     "output_type": "stream",
     "text": [
      "Matriz de confusión:\n",
      "[[26333  2099]\n",
      " [    5    44]]\n",
      "Reporte de Clasificación:\n",
      "              precision    recall  f1-score   support\n",
      "\n",
      "   Correctas       1.00      0.93      0.96     28432\n",
      "Fraudulentas       0.02      0.90      0.04        49\n",
      "\n",
      "    accuracy                           0.93     28481\n",
      "   macro avg       0.51      0.91      0.50     28481\n",
      "weighted avg       1.00      0.93      0.96     28481\n",
      "\n"
     ]
    }
   ],
   "source": [
    "# Configura el modelo con los mejores parámetros\n",
    "base_estimator = DecisionTreeClassifier(max_depth=3) \n",
    "adaboost = AdaBoostClassifier(\n",
    "    estimator=base_estimator,\n",
    "    n_estimators=100,         \n",
    "    learning_rate=0.5,       \n",
    "    random_state=0           \n",
    ")\n",
    "\n",
    "\n",
    "X = df_reduce_mrmr_instances_hard.drop(columns=['Class'])\n",
    "y = df_reduce_mrmr_instances_hard['Class']\n",
    "\n",
    "# Entrenamos el modelo con los datos de entrenamiento\n",
    "adaboost.fit(X, y)\n",
    "\n",
    "# Evalúa el modelo en los datos de prueba\n",
    "y_pred_tree = adaboost.predict(X_reduce)\n",
    "\n",
    "# Calcular la matriz de confusión\n",
    "conf_matrix = confusion_matrix(y_test_final, y_pred_tree)\n",
    "report = classification_report(y_test_final, y_pred_tree, target_names=['Correctas', 'Fraudulentas'])\n",
    "# Mostrar la matriz de confusión\n",
    "print(\"Matriz de confusión:\")\n",
    "print(conf_matrix)\n",
    "\n",
    "print(\"Reporte de Clasificación:\")\n",
    "print(report)"
   ]
  },
  {
   "cell_type": "markdown",
   "id": "0f014190-c59e-470c-b827-0d2d97920f40",
   "metadata": {},
   "source": [
    "Probamos otros clasificadores débiles como LogisticRegression o SVM."
   ]
  },
  {
   "cell_type": "markdown",
   "id": "e4895725-b9be-4257-a678-b1acd2568290",
   "metadata": {},
   "source": [
    "## LogisticRegression"
   ]
  },
  {
   "cell_type": "code",
   "execution_count": 24,
   "id": "97aa3ed6-2995-4f3a-8475-0875f5d205ee",
   "metadata": {},
   "outputs": [
    {
     "name": "stdout",
     "output_type": "stream",
     "text": [
      "Dimensiones de los conjuntos:\n",
      "Conjunto de entrenamiento: (708, 10), (708,)\n",
      "Conjunto de prueba: (178, 10), (178,)\n",
      "Mejores parámetros: {'learning_rate': 0.1, 'n_estimators': 50}\n",
      "Mejor puntuación de validación cruzada: 0.8418439716312058\n",
      "Informe completo en datos de prueba\n",
      "               precision    recall  f1-score   support\n",
      "\n",
      "           0       0.79      1.00      0.89        89\n",
      "           1       1.00      0.74      0.85        89\n",
      "\n",
      "    accuracy                           0.87       178\n",
      "   macro avg       0.90      0.87      0.87       178\n",
      "weighted avg       0.90      0.87      0.87       178\n",
      "\n"
     ]
    }
   ],
   "source": [
    "X = df_reduce_mrmr_instances_hard.drop(columns=['Class'])\n",
    "y = df_reduce_mrmr_instances_hard['Class']\n",
    "\n",
    "X_train, X_test, y_train, y_test = train_test_split(X, y, test_size=0.2, stratify=y, random_state=42)\n",
    "print(\"Dimensiones de los conjuntos:\")\n",
    "print(f\"Conjunto de entrenamiento: {X_train.shape}, {y_train.shape}\")\n",
    "print(f\"Conjunto de prueba: {X_test.shape}, {y_test.shape}\")\n",
    "\n",
    "base_estimator=LogisticRegression(max_iter=1000)  \n",
    "adaboost = AdaBoostClassifier(estimator=base_estimator, random_state=0)\n",
    "\n",
    "\n",
    "param_grid = {\n",
    "    'n_estimators': [10, 50, 100],      # Número de clasificadores débiles\n",
    "    'learning_rate': [0.1, 0.5, 1.0],  # Tasa de aprendizaje\n",
    "}\n",
    "\n",
    "# Creamos el GridSearchCV\n",
    "grid_search = GridSearchCV(estimator=adaboost, param_grid=param_grid, cv=5, scoring='accuracy', n_jobs=-1)\n",
    "grid_search.fit(X_train, y_train)\n",
    "\n",
    "# Mostramos los mejores parámetros y el desempeño\n",
    "print(\"Mejores parámetros:\", grid_search.best_params_)\n",
    "print(\"Mejor puntuación de validación cruzada:\", grid_search.best_score_)\n",
    "\n",
    "# Evaluamos el mejor modelo en los datos de prueba\n",
    "best_model = grid_search.best_estimator_\n",
    "y_pred = best_model.predict(X_test)\n",
    "print(\"Informe completo en datos de prueba\\n\", classification_report(y_test, y_pred))"
   ]
  },
  {
   "cell_type": "markdown",
   "id": "72f2c32f-d0d9-48b1-a5d6-c8312ecbe4d0",
   "metadata": {},
   "source": [
    "### Aplicamos adaBoost con los mejores parámetros en el conjunto de test"
   ]
  },
  {
   "cell_type": "code",
   "execution_count": 25,
   "id": "6b29cf7f-1021-414b-9bb7-1a024342cfd9",
   "metadata": {},
   "outputs": [
    {
     "name": "stdout",
     "output_type": "stream",
     "text": [
      "Matriz de confusión:\n",
      "[[26606  1826]\n",
      " [   11    38]]\n",
      "Reporte de Clasificación:\n",
      "              precision    recall  f1-score   support\n",
      "\n",
      "   Correctas       1.00      0.94      0.97     28432\n",
      "Fraudulentas       0.02      0.78      0.04        49\n",
      "\n",
      "    accuracy                           0.94     28481\n",
      "   macro avg       0.51      0.86      0.50     28481\n",
      "weighted avg       1.00      0.94      0.97     28481\n",
      "\n"
     ]
    }
   ],
   "source": [
    "# Configura el modelo con los mejores parámetros\n",
    "base_estimator = LogisticRegression(max_iter=1000)   \n",
    "adaboost = AdaBoostClassifier(\n",
    "    estimator=base_estimator,\n",
    "    n_estimators=50,         \n",
    "    learning_rate=0.1,       \n",
    "    random_state=0           \n",
    ")\n",
    "\n",
    "\n",
    "X = df_reduce_mrmr_instances_hard.drop(columns=['Class'])\n",
    "y = df_reduce_mrmr_instances_hard['Class']\n",
    "\n",
    "# Entrenamos el modelo con los datos de entrenamiento\n",
    "adaboost.fit(X, y)\n",
    "\n",
    "# Evalúa el modelo en los datos de prueba\n",
    "y_pred_lr = adaboost.predict(X_reduce)\n",
    "\n",
    "# Calcular la matriz de confusión\n",
    "conf_matrix = confusion_matrix(y_test_final, y_pred_lr)\n",
    "report = classification_report(y_test_final, y_pred_lr, target_names=['Correctas', 'Fraudulentas'])\n",
    "# Mostrar la matriz de confusión\n",
    "print(\"Matriz de confusión:\")\n",
    "print(conf_matrix)\n",
    "\n",
    "print(\"Reporte de Clasificación:\")\n",
    "print(report)"
   ]
  },
  {
   "cell_type": "markdown",
   "id": "8ffa08a0-fd94-4bd4-be40-8b35f8f42f02",
   "metadata": {},
   "source": [
    "## SVM"
   ]
  },
  {
   "cell_type": "code",
   "execution_count": 26,
   "id": "4b577b59-7085-440a-abbd-af42b5055148",
   "metadata": {},
   "outputs": [
    {
     "name": "stdout",
     "output_type": "stream",
     "text": [
      "Dimensiones de los conjuntos:\n",
      "Conjunto de entrenamiento: (708, 10), (708,)\n",
      "Conjunto de prueba: (178, 10), (178,)\n",
      "Mejores parámetros: {'estimator__C': 10, 'learning_rate': 0.1, 'n_estimators': 10}\n",
      "Mejor puntuación de validación cruzada: 0.8432324443112575\n",
      "Informe completo en datos de prueba\n",
      "               precision    recall  f1-score   support\n",
      "\n",
      "           0       0.77      1.00      0.87        89\n",
      "           1       1.00      0.71      0.83        89\n",
      "\n",
      "    accuracy                           0.85       178\n",
      "   macro avg       0.89      0.85      0.85       178\n",
      "weighted avg       0.89      0.85      0.85       178\n",
      "\n"
     ]
    }
   ],
   "source": [
    "X = df_reduce_mrmr_instances_hard.drop(columns=['Class'])\n",
    "y = df_reduce_mrmr_instances_hard['Class']\n",
    "from sklearn.svm import SVC\n",
    "\n",
    "X_train, X_test, y_train, y_test = train_test_split(X, y, test_size=0.2, stratify=y, random_state=42)\n",
    "print(\"Dimensiones de los conjuntos:\")\n",
    "print(f\"Conjunto de entrenamiento: {X_train.shape}, {y_train.shape}\")\n",
    "print(f\"Conjunto de prueba: {X_test.shape}, {y_test.shape}\")\n",
    "\n",
    "base_estimator = SVC(kernel='linear', random_state=0) \n",
    "adaboost = AdaBoostClassifier(estimator=base_estimator, random_state=0)\n",
    "\n",
    "\n",
    "param_grid = {\n",
    "    'n_estimators': [10, 50, 100],      # Número de clasificadores débiles\n",
    "    'learning_rate': [0.1, 0.5, 1.0],  # Tasa de aprendizaje\n",
    "    'estimator__C': [0.1, 1, 10]\n",
    "}\n",
    "\n",
    "# Creamos el GridSearchCV\n",
    "grid_search = GridSearchCV(estimator=adaboost, param_grid=param_grid, cv=5, scoring='accuracy', n_jobs=-1)\n",
    "grid_search.fit(X_train, y_train)\n",
    "\n",
    "# Mostramos los mejores parámetros y el desempeño\n",
    "print(\"Mejores parámetros:\", grid_search.best_params_)\n",
    "print(\"Mejor puntuación de validación cruzada:\", grid_search.best_score_)\n",
    "\n",
    "# Evaluamos el mejor modelo en los datos de prueba\n",
    "best_model = grid_search.best_estimator_\n",
    "y_pred = best_model.predict(X_test)\n",
    "print(\"Informe completo en datos de prueba\\n\", classification_report(y_test, y_pred))"
   ]
  },
  {
   "cell_type": "markdown",
   "id": "a966bcf6-5255-4d01-be32-b2e53c9df8b3",
   "metadata": {},
   "source": [
    "### Aplicamos adaBoost con los mejores parámetros en el conjunto de test"
   ]
  },
  {
   "cell_type": "code",
   "execution_count": 28,
   "id": "3cbac44c-2dd7-4c40-807f-ddcf9f35136a",
   "metadata": {
    "scrolled": true
   },
   "outputs": [
    {
     "name": "stdout",
     "output_type": "stream",
     "text": [
      "Matriz de confusión:\n",
      "[[28384    48]\n",
      " [   14    35]]\n",
      "Reporte de Clasificación:\n",
      "              precision    recall  f1-score   support\n",
      "\n",
      "   Correctas       1.00      1.00      1.00     28432\n",
      "Fraudulentas       0.42      0.71      0.53        49\n",
      "\n",
      "    accuracy                           1.00     28481\n",
      "   macro avg       0.71      0.86      0.76     28481\n",
      "weighted avg       1.00      1.00      1.00     28481\n",
      "\n"
     ]
    }
   ],
   "source": [
    "# Configura el modelo con los mejores parámetros\n",
    "base_estimator = SVC(kernel='linear', random_state=0, C=10)   \n",
    "adaboost = AdaBoostClassifier(\n",
    "    estimator=base_estimator,\n",
    "    n_estimators=10,         \n",
    "    learning_rate=0.1,       \n",
    "    random_state=0           \n",
    ")\n",
    "\n",
    "\n",
    "X = df_reduce_mrmr_instances_hard.drop(columns=['Class'])\n",
    "y = df_reduce_mrmr_instances_hard['Class']\n",
    "\n",
    "# Entrenamos el modelo con los datos de entrenamiento\n",
    "adaboost.fit(X, y)\n",
    "\n",
    "# Evalúa el modelo en los datos de prueba\n",
    "y_pred_lr = adaboost.predict(X_reduce)\n",
    "\n",
    "# Calcular la matriz de confusión\n",
    "conf_matrix = confusion_matrix(y_test_final, y_pred_lr)\n",
    "report = classification_report(y_test_final, y_pred_lr, target_names=['Correctas', 'Fraudulentas'])\n",
    "# Mostrar la matriz de confusión\n",
    "print(\"Matriz de confusión:\")\n",
    "print(conf_matrix)\n",
    "\n",
    "print(\"Reporte de Clasificación:\")\n",
    "print(report)"
   ]
  },
  {
   "cell_type": "markdown",
   "id": "e21d5b06-4949-4acd-a9f2-d1dbe14fe59e",
   "metadata": {},
   "source": [
    "# adaBoost con RFC y ClusterCentroids soft"
   ]
  },
  {
   "cell_type": "markdown",
   "id": "8bd931fc-94ec-499a-a1f3-3a47828f5144",
   "metadata": {},
   "source": [
    "## DecisionTreeClassifier"
   ]
  },
  {
   "cell_type": "code",
   "execution_count": 30,
   "id": "58535a66-2e4e-4bee-9ffe-3b8df08c6d5b",
   "metadata": {},
   "outputs": [
    {
     "name": "stdout",
     "output_type": "stream",
     "text": [
      "Dimensiones de los conjuntos:\n",
      "Conjunto de entrenamiento: (708, 10), (708,)\n",
      "Conjunto de prueba: (178, 10), (178,)\n",
      "Mejores parámetros: {'estimator__max_depth': 2, 'learning_rate': 0.5, 'n_estimators': 50}\n",
      "Mejor puntuación de validación cruzada: 0.9279792228548598\n",
      "Informe completo en datos de prueba\n",
      "               precision    recall  f1-score   support\n",
      "\n",
      "           0       0.88      0.96      0.91        89\n",
      "           1       0.95      0.87      0.91        89\n",
      "\n",
      "    accuracy                           0.91       178\n",
      "   macro avg       0.91      0.91      0.91       178\n",
      "weighted avg       0.91      0.91      0.91       178\n",
      "\n"
     ]
    }
   ],
   "source": [
    "X = df_reduce_RFC_instances.drop(columns=['Class'])\n",
    "y = df_reduce_RFC_instances['Class']\n",
    "\n",
    "X_train, X_test, y_train, y_test = train_test_split(X, y, test_size=0.2, stratify=y, random_state=42)\n",
    "print(\"Dimensiones de los conjuntos:\")\n",
    "print(f\"Conjunto de entrenamiento: {X_train.shape}, {y_train.shape}\")\n",
    "print(f\"Conjunto de prueba: {X_test.shape}, {y_test.shape}\")\n",
    "\n",
    "base_estimator = DecisionTreeClassifier(max_depth=1)  # Clasificador predeterminado\n",
    "adaboost = AdaBoostClassifier(estimator=base_estimator, random_state=0)\n",
    "\n",
    "\n",
    "param_grid = {\n",
    "    'n_estimators': [10, 50, 100],      # Número de clasificadores débiles\n",
    "    'learning_rate': [0.1, 0.5, 1.0],  # Tasa de aprendizaje\n",
    "    'estimator__max_depth': [1, 2, 3]  # Profundidad del árbol base\n",
    "}\n",
    "\n",
    "# Creamos el GridSearchCV\n",
    "grid_search = GridSearchCV(estimator=adaboost, param_grid=param_grid, cv=5, scoring='accuracy', n_jobs=-1)\n",
    "grid_search.fit(X_train, y_train)\n",
    "\n",
    "# Mostramos los mejores parámetros y el desempeño\n",
    "print(\"Mejores parámetros:\", grid_search.best_params_)\n",
    "print(\"Mejor puntuación de validación cruzada:\", grid_search.best_score_)\n",
    "\n",
    "# Evaluamos el mejor modelo en los datos de prueba\n",
    "best_model = grid_search.best_estimator_\n",
    "y_pred = best_model.predict(X_test)\n",
    "print(\"Informe completo en datos de prueba\\n\", classification_report(y_test, y_pred))"
   ]
  },
  {
   "cell_type": "markdown",
   "id": "1f0c06e8-c95f-4c9a-acd6-dccde92b0883",
   "metadata": {},
   "source": [
    "### Aplicamos adaBoost con los mejores parámetros en el conjunto de test"
   ]
  },
  {
   "cell_type": "code",
   "execution_count": 32,
   "id": "d597e8f5-e81d-4186-a92e-aaf3666df75e",
   "metadata": {},
   "outputs": [
    {
     "name": "stdout",
     "output_type": "stream",
     "text": [
      "Class\n",
      "0    28432\n",
      "1       49\n",
      "Name: count, dtype: int64\n"
     ]
    }
   ],
   "source": [
    "# Cogemos los datos de test y les eliminamos las cracterísticas que no necesitamos\n",
    "X = test_data.drop(columns=['Class'])\n",
    "y_test_final = test_data['Class']\n",
    "columns_to_keep_RFC = ['V17', 'V16', 'V12', 'V14', 'V11', 'V10', 'V9', 'V4', 'V18', 'V7']\n",
    "X_reduce_RFC = X[columns_to_keep_RFC]\n",
    "\n",
    "\n",
    "print(y_test_final.value_counts())"
   ]
  },
  {
   "cell_type": "code",
   "execution_count": 34,
   "id": "61ff4d90-4809-42ce-b5d3-60529192787e",
   "metadata": {},
   "outputs": [
    {
     "name": "stdout",
     "output_type": "stream",
     "text": [
      "Matriz de confusión:\n",
      "[[27664   768]\n",
      " [    6    43]]\n",
      "Reporte de Clasificación:\n",
      "              precision    recall  f1-score   support\n",
      "\n",
      "   Correctas       1.00      0.97      0.99     28432\n",
      "Fraudulentas       0.05      0.88      0.10        49\n",
      "\n",
      "    accuracy                           0.97     28481\n",
      "   macro avg       0.53      0.93      0.54     28481\n",
      "weighted avg       1.00      0.97      0.98     28481\n",
      "\n"
     ]
    }
   ],
   "source": [
    "# Configura el modelo con los mejores parámetros\n",
    "base_estimator = DecisionTreeClassifier(max_depth=2) \n",
    "adaboost = AdaBoostClassifier(\n",
    "    estimator=base_estimator,\n",
    "    n_estimators=50,         \n",
    "    learning_rate=0.5,       \n",
    "    random_state=0           \n",
    ")\n",
    "\n",
    "\n",
    "X = df_reduce_RFC_instances.drop(columns=['Class'])\n",
    "y = df_reduce_RFC_instances['Class']\n",
    "\n",
    "# Entrenamos el modelo con los datos de entrenamiento\n",
    "adaboost.fit(X, y)\n",
    "\n",
    "# Evalúa el modelo en los datos de prueba\n",
    "y_pred_tree = adaboost.predict(X_reduce_RFC)\n",
    "\n",
    "# Calcular la matriz de confusión\n",
    "conf_matrix = confusion_matrix(y_test_final, y_pred_tree)\n",
    "report = classification_report(y_test_final, y_pred_tree, target_names=['Correctas', 'Fraudulentas'])\n",
    "# Mostrar la matriz de confusión\n",
    "print(\"Matriz de confusión:\")\n",
    "print(conf_matrix)\n",
    "\n",
    "print(\"Reporte de Clasificación:\")\n",
    "print(report)"
   ]
  },
  {
   "cell_type": "markdown",
   "id": "d73a37fd-e2dc-4bbc-ad83-d873dc1283df",
   "metadata": {},
   "source": [
    "Probamos otros clasificadores débiles como LogisticRegression o SVM."
   ]
  },
  {
   "cell_type": "markdown",
   "id": "0fa3adac-f2a1-4cec-95a2-c3aeafe36839",
   "metadata": {},
   "source": [
    "## LogisticRegression"
   ]
  },
  {
   "cell_type": "code",
   "execution_count": 35,
   "id": "a20a07aa-92b0-4427-87e6-d178dab0d80c",
   "metadata": {},
   "outputs": [
    {
     "name": "stdout",
     "output_type": "stream",
     "text": [
      "Dimensiones de los conjuntos:\n",
      "Conjunto de entrenamiento: (708, 10), (708,)\n",
      "Conjunto de prueba: (178, 10), (178,)\n",
      "Mejores parámetros: {'learning_rate': 0.5, 'n_estimators': 10}\n",
      "Mejor puntuación de validación cruzada: 0.9251523324343223\n",
      "Informe completo en datos de prueba\n",
      "               precision    recall  f1-score   support\n",
      "\n",
      "           0       0.87      0.96      0.91        89\n",
      "           1       0.95      0.85      0.90        89\n",
      "\n",
      "    accuracy                           0.90       178\n",
      "   macro avg       0.91      0.90      0.90       178\n",
      "weighted avg       0.91      0.90      0.90       178\n",
      "\n"
     ]
    }
   ],
   "source": [
    "X = df_reduce_RFC_instances.drop(columns=['Class'])\n",
    "y = df_reduce_RFC_instances['Class']\n",
    "\n",
    "X_train, X_test, y_train, y_test = train_test_split(X, y, test_size=0.2, stratify=y, random_state=42)\n",
    "print(\"Dimensiones de los conjuntos:\")\n",
    "print(f\"Conjunto de entrenamiento: {X_train.shape}, {y_train.shape}\")\n",
    "print(f\"Conjunto de prueba: {X_test.shape}, {y_test.shape}\")\n",
    "\n",
    "base_estimator=LogisticRegression(max_iter=1000)  \n",
    "adaboost = AdaBoostClassifier(estimator=base_estimator, random_state=0)\n",
    "\n",
    "\n",
    "param_grid = {\n",
    "    'n_estimators': [10, 50, 100],      # Número de clasificadores débiles\n",
    "    'learning_rate': [0.1, 0.5, 1.0],  # Tasa de aprendizaje\n",
    "}\n",
    "\n",
    "# Creamos el GridSearchCV\n",
    "grid_search = GridSearchCV(estimator=adaboost, param_grid=param_grid, cv=5, scoring='accuracy', n_jobs=-1)\n",
    "grid_search.fit(X_train, y_train)\n",
    "\n",
    "# Mostramos los mejores parámetros y el desempeño\n",
    "print(\"Mejores parámetros:\", grid_search.best_params_)\n",
    "print(\"Mejor puntuación de validación cruzada:\", grid_search.best_score_)\n",
    "\n",
    "# Evaluamos el mejor modelo en los datos de prueba\n",
    "best_model = grid_search.best_estimator_\n",
    "y_pred = best_model.predict(X_test)\n",
    "print(\"Informe completo en datos de prueba\\n\", classification_report(y_test, y_pred))"
   ]
  },
  {
   "cell_type": "markdown",
   "id": "1711a0e9-5734-41cd-a139-b3d28f573c72",
   "metadata": {},
   "source": [
    "### Aplicamos adaBoost con los mejores parámetros en el conjunto de test"
   ]
  },
  {
   "cell_type": "code",
   "execution_count": 36,
   "id": "eb12a0c5-95b3-41f4-b36a-204fa864e5c6",
   "metadata": {},
   "outputs": [
    {
     "name": "stdout",
     "output_type": "stream",
     "text": [
      "Matriz de confusión:\n",
      "[[28068   364]\n",
      " [    4    45]]\n",
      "Reporte de Clasificación:\n",
      "              precision    recall  f1-score   support\n",
      "\n",
      "   Correctas       1.00      0.99      0.99     28432\n",
      "Fraudulentas       0.11      0.92      0.20        49\n",
      "\n",
      "    accuracy                           0.99     28481\n",
      "   macro avg       0.55      0.95      0.59     28481\n",
      "weighted avg       1.00      0.99      0.99     28481\n",
      "\n"
     ]
    }
   ],
   "source": [
    "# Configura el modelo con los mejores parámetros\n",
    "base_estimator = LogisticRegression(max_iter=1000)   \n",
    "adaboost = AdaBoostClassifier(\n",
    "    estimator=base_estimator,\n",
    "    n_estimators=10,         \n",
    "    learning_rate=0.5,       \n",
    "    random_state=0           \n",
    ")\n",
    "\n",
    "\n",
    "X = df_reduce_RFC_instances.drop(columns=['Class'])\n",
    "y = df_reduce_RFC_instances['Class']\n",
    "\n",
    "# Entrenamos el modelo con los datos de entrenamiento\n",
    "adaboost.fit(X, y)\n",
    "\n",
    "# Evalúa el modelo en los datos de prueba\n",
    "y_pred_lr = adaboost.predict(X_reduce_RFC)\n",
    "\n",
    "# Calcular la matriz de confusión\n",
    "conf_matrix = confusion_matrix(y_test_final, y_pred_lr)\n",
    "report = classification_report(y_test_final, y_pred_lr, target_names=['Correctas', 'Fraudulentas'])\n",
    "# Mostrar la matriz de confusión\n",
    "print(\"Matriz de confusión:\")\n",
    "print(conf_matrix)\n",
    "\n",
    "print(\"Reporte de Clasificación:\")\n",
    "print(report)"
   ]
  },
  {
   "cell_type": "markdown",
   "id": "c3b63646-d825-4601-af3b-e27c880a7a51",
   "metadata": {},
   "source": [
    "## SVM"
   ]
  },
  {
   "cell_type": "code",
   "execution_count": 37,
   "id": "cf75280b-3eaf-4d5d-add4-aeb0741d71ad",
   "metadata": {},
   "outputs": [
    {
     "name": "stdout",
     "output_type": "stream",
     "text": [
      "Dimensiones de los conjuntos:\n",
      "Conjunto de entrenamiento: (708, 10), (708,)\n",
      "Conjunto de prueba: (178, 10), (178,)\n",
      "Mejores parámetros: {'estimator__C': 0.1, 'learning_rate': 0.1, 'n_estimators': 50}\n",
      "Mejor puntuación de validación cruzada: 0.9223354310258716\n",
      "Informe completo en datos de prueba\n",
      "               precision    recall  f1-score   support\n",
      "\n",
      "           0       0.86      0.96      0.90        89\n",
      "           1       0.95      0.84      0.89        89\n",
      "\n",
      "    accuracy                           0.90       178\n",
      "   macro avg       0.90      0.90      0.90       178\n",
      "weighted avg       0.90      0.90      0.90       178\n",
      "\n"
     ]
    }
   ],
   "source": [
    "X = df_reduce_RFC_instances.drop(columns=['Class'])\n",
    "y = df_reduce_RFC_instances['Class']\n",
    "from sklearn.svm import SVC\n",
    "\n",
    "X_train, X_test, y_train, y_test = train_test_split(X, y, test_size=0.2, stratify=y, random_state=42)\n",
    "print(\"Dimensiones de los conjuntos:\")\n",
    "print(f\"Conjunto de entrenamiento: {X_train.shape}, {y_train.shape}\")\n",
    "print(f\"Conjunto de prueba: {X_test.shape}, {y_test.shape}\")\n",
    "\n",
    "base_estimator = SVC(kernel='linear', random_state=0) \n",
    "adaboost = AdaBoostClassifier(estimator=base_estimator, random_state=0)\n",
    "\n",
    "\n",
    "param_grid = {\n",
    "    'n_estimators': [10, 50, 100],      # Número de clasificadores débiles\n",
    "    'learning_rate': [0.1, 0.5, 1.0],  # Tasa de aprendizaje\n",
    "    'estimator__C': [0.1, 1, 10]\n",
    "}\n",
    "\n",
    "# Creamos el GridSearchCV\n",
    "grid_search = GridSearchCV(estimator=adaboost, param_grid=param_grid, cv=5, scoring='accuracy', n_jobs=-1)\n",
    "grid_search.fit(X_train, y_train)\n",
    "\n",
    "# Mostramos los mejores parámetros y el desempeño\n",
    "print(\"Mejores parámetros:\", grid_search.best_params_)\n",
    "print(\"Mejor puntuación de validación cruzada:\", grid_search.best_score_)\n",
    "\n",
    "# Evaluamos el mejor modelo en los datos de prueba\n",
    "best_model = grid_search.best_estimator_\n",
    "y_pred = best_model.predict(X_test)\n",
    "print(\"Informe completo en datos de prueba\\n\", classification_report(y_test, y_pred))"
   ]
  },
  {
   "cell_type": "markdown",
   "id": "fe63ecad-0bee-4ea8-9955-020eb99c74b3",
   "metadata": {},
   "source": [
    "### Aplicamos adaBoost con los mejores parámetros en el conjunto de test"
   ]
  },
  {
   "cell_type": "code",
   "execution_count": 38,
   "id": "9b01dc87-4739-4bf2-b652-5738a12379be",
   "metadata": {
    "scrolled": true
   },
   "outputs": [
    {
     "name": "stdout",
     "output_type": "stream",
     "text": [
      "Matriz de confusión:\n",
      "[[28198   234]\n",
      " [    5    44]]\n",
      "Reporte de Clasificación:\n",
      "              precision    recall  f1-score   support\n",
      "\n",
      "   Correctas       1.00      0.99      1.00     28432\n",
      "Fraudulentas       0.16      0.90      0.27        49\n",
      "\n",
      "    accuracy                           0.99     28481\n",
      "   macro avg       0.58      0.94      0.63     28481\n",
      "weighted avg       1.00      0.99      0.99     28481\n",
      "\n"
     ]
    }
   ],
   "source": [
    "# Configura el modelo con los mejores parámetros\n",
    "base_estimator = SVC(kernel='linear', random_state=0, C=0.1)   \n",
    "adaboost = AdaBoostClassifier(\n",
    "    estimator=base_estimator,\n",
    "    n_estimators=50,         \n",
    "    learning_rate=0.1,       \n",
    "    random_state=0           \n",
    ")\n",
    "\n",
    "\n",
    "X = df_reduce_RFC_instances.drop(columns=['Class'])\n",
    "y = df_reduce_RFC_instances['Class']\n",
    "\n",
    "# Entrenamos el modelo con los datos de entrenamiento\n",
    "adaboost.fit(X, y)\n",
    "\n",
    "# Evalúa el modelo en los datos de prueba\n",
    "y_pred_lr = adaboost.predict(X_reduce_RFC)\n",
    "\n",
    "# Calcular la matriz de confusión\n",
    "conf_matrix = confusion_matrix(y_test_final, y_pred_lr)\n",
    "report = classification_report(y_test_final, y_pred_lr, target_names=['Correctas', 'Fraudulentas'])\n",
    "# Mostrar la matriz de confusión\n",
    "print(\"Matriz de confusión:\")\n",
    "print(conf_matrix)\n",
    "\n",
    "print(\"Reporte de Clasificación:\")\n",
    "print(report)"
   ]
  },
  {
   "cell_type": "markdown",
   "id": "f71d27ae-6180-4036-b1cb-fc7062b3dc3c",
   "metadata": {},
   "source": [
    "# adaBoost con RFC y ClusterCentroids hard"
   ]
  },
  {
   "cell_type": "markdown",
   "id": "2df6689c-29f0-435c-aca0-c9d11f52bd9a",
   "metadata": {},
   "source": [
    "## DecisionTreeClassifier"
   ]
  },
  {
   "cell_type": "code",
   "execution_count": 39,
   "id": "314d3cab-b769-469f-a8f3-b7b19bf2c69f",
   "metadata": {},
   "outputs": [
    {
     "name": "stdout",
     "output_type": "stream",
     "text": [
      "Dimensiones de los conjuntos:\n",
      "Conjunto de entrenamiento: (708, 10), (708,)\n",
      "Conjunto de prueba: (178, 10), (178,)\n",
      "Mejores parámetros: {'estimator__max_depth': 2, 'learning_rate': 0.5, 'n_estimators': 100}\n",
      "Mejor puntuación de validación cruzada: 0.9308161022874838\n",
      "Informe completo en datos de prueba\n",
      "               precision    recall  f1-score   support\n",
      "\n",
      "           0       0.87      0.97      0.91        89\n",
      "           1       0.96      0.85      0.90        89\n",
      "\n",
      "    accuracy                           0.91       178\n",
      "   macro avg       0.92      0.91      0.91       178\n",
      "weighted avg       0.92      0.91      0.91       178\n",
      "\n"
     ]
    }
   ],
   "source": [
    "X = df_reduce_RFC_instances_hard.drop(columns=['Class'])\n",
    "y = df_reduce_RFC_instances_hard['Class']\n",
    "\n",
    "X_train, X_test, y_train, y_test = train_test_split(X, y, test_size=0.2, stratify=y, random_state=42)\n",
    "print(\"Dimensiones de los conjuntos:\")\n",
    "print(f\"Conjunto de entrenamiento: {X_train.shape}, {y_train.shape}\")\n",
    "print(f\"Conjunto de prueba: {X_test.shape}, {y_test.shape}\")\n",
    "\n",
    "base_estimator = DecisionTreeClassifier(max_depth=1)  # Clasificador predeterminado\n",
    "adaboost = AdaBoostClassifier(estimator=base_estimator, random_state=0)\n",
    "\n",
    "\n",
    "param_grid = {\n",
    "    'n_estimators': [10, 50, 100],      # Número de clasificadores débiles\n",
    "    'learning_rate': [0.1, 0.5, 1.0],  # Tasa de aprendizaje\n",
    "    'estimator__max_depth': [1, 2, 3]  # Profundidad del árbol base\n",
    "}\n",
    "\n",
    "# Creamos el GridSearchCV\n",
    "grid_search = GridSearchCV(estimator=adaboost, param_grid=param_grid, cv=5, scoring='accuracy', n_jobs=-1)\n",
    "grid_search.fit(X_train, y_train)\n",
    "\n",
    "# Mostramos los mejores parámetros y el desempeño\n",
    "print(\"Mejores parámetros:\", grid_search.best_params_)\n",
    "print(\"Mejor puntuación de validación cruzada:\", grid_search.best_score_)\n",
    "\n",
    "# Evaluamos el mejor modelo en los datos de prueba\n",
    "best_model = grid_search.best_estimator_\n",
    "y_pred = best_model.predict(X_test)\n",
    "print(\"Informe completo en datos de prueba\\n\", classification_report(y_test, y_pred))"
   ]
  },
  {
   "cell_type": "markdown",
   "id": "d3598900-9e16-4b09-bcd3-2f131a53d229",
   "metadata": {},
   "source": [
    "### Aplicamos adaBoost con los mejores parámetros en el conjunto de test"
   ]
  },
  {
   "cell_type": "code",
   "execution_count": 41,
   "id": "1b3b1631-fba7-4d22-87aa-57a6abb34663",
   "metadata": {},
   "outputs": [
    {
     "name": "stdout",
     "output_type": "stream",
     "text": [
      "Matriz de confusión:\n",
      "[[27698   734]\n",
      " [    4    45]]\n",
      "Reporte de Clasificación:\n",
      "              precision    recall  f1-score   support\n",
      "\n",
      "   Correctas       1.00      0.97      0.99     28432\n",
      "Fraudulentas       0.06      0.92      0.11        49\n",
      "\n",
      "    accuracy                           0.97     28481\n",
      "   macro avg       0.53      0.95      0.55     28481\n",
      "weighted avg       1.00      0.97      0.99     28481\n",
      "\n"
     ]
    }
   ],
   "source": [
    "# Configura el modelo con los mejores parámetros\n",
    "base_estimator = DecisionTreeClassifier(max_depth=2) \n",
    "adaboost = AdaBoostClassifier(\n",
    "    estimator=base_estimator,\n",
    "    n_estimators=100,         \n",
    "    learning_rate=0.5,       \n",
    "    random_state=0           \n",
    ")\n",
    "\n",
    "\n",
    "X = df_reduce_RFC_instances_hard.drop(columns=['Class'])\n",
    "y = df_reduce_RFC_instances_hard['Class']\n",
    "\n",
    "# Entrenamos el modelo con los datos de entrenamiento\n",
    "adaboost.fit(X, y)\n",
    "\n",
    "# Evalúa el modelo en los datos de prueba\n",
    "y_pred_tree = adaboost.predict(X_reduce_RFC)\n",
    "\n",
    "# Calcular la matriz de confusión\n",
    "conf_matrix = confusion_matrix(y_test_final, y_pred_tree)\n",
    "report = classification_report(y_test_final, y_pred_tree, target_names=['Correctas', 'Fraudulentas'])\n",
    "# Mostrar la matriz de confusión\n",
    "print(\"Matriz de confusión:\")\n",
    "print(conf_matrix)\n",
    "\n",
    "print(\"Reporte de Clasificación:\")\n",
    "print(report)"
   ]
  },
  {
   "cell_type": "markdown",
   "id": "35bf12e1-01f8-4ca4-abfc-3eb3c2fd3841",
   "metadata": {},
   "source": [
    "Probamos otros clasificadores débiles como LogisticRegression o SVM."
   ]
  },
  {
   "cell_type": "markdown",
   "id": "39eb9a9d-a11b-4941-a91d-26b05bf29af2",
   "metadata": {},
   "source": [
    "## LogisticRegression"
   ]
  },
  {
   "cell_type": "code",
   "execution_count": 42,
   "id": "1fc08040-79b5-4515-ab0a-4531c5f96bc9",
   "metadata": {},
   "outputs": [
    {
     "name": "stdout",
     "output_type": "stream",
     "text": [
      "Dimensiones de los conjuntos:\n",
      "Conjunto de entrenamiento: (708, 10), (708,)\n",
      "Conjunto de prueba: (178, 10), (178,)\n",
      "Mejores parámetros: {'learning_rate': 0.5, 'n_estimators': 10}\n",
      "Mejor puntuación de validación cruzada: 0.9223454200379582\n",
      "Informe completo en datos de prueba\n",
      "               precision    recall  f1-score   support\n",
      "\n",
      "           0       0.87      0.96      0.91        89\n",
      "           1       0.95      0.85      0.90        89\n",
      "\n",
      "    accuracy                           0.90       178\n",
      "   macro avg       0.91      0.90      0.90       178\n",
      "weighted avg       0.91      0.90      0.90       178\n",
      "\n"
     ]
    }
   ],
   "source": [
    "X = df_reduce_RFC_instances_hard.drop(columns=['Class'])\n",
    "y = df_reduce_RFC_instances_hard['Class']\n",
    "\n",
    "X_train, X_test, y_train, y_test = train_test_split(X, y, test_size=0.2, stratify=y, random_state=42)\n",
    "print(\"Dimensiones de los conjuntos:\")\n",
    "print(f\"Conjunto de entrenamiento: {X_train.shape}, {y_train.shape}\")\n",
    "print(f\"Conjunto de prueba: {X_test.shape}, {y_test.shape}\")\n",
    "\n",
    "base_estimator=LogisticRegression(max_iter=1000)  \n",
    "adaboost = AdaBoostClassifier(estimator=base_estimator, random_state=0)\n",
    "\n",
    "\n",
    "param_grid = {\n",
    "    'n_estimators': [10, 50, 100],      # Número de clasificadores débiles\n",
    "    'learning_rate': [0.1, 0.5, 1.0],  # Tasa de aprendizaje\n",
    "}\n",
    "\n",
    "# Creamos el GridSearchCV\n",
    "grid_search = GridSearchCV(estimator=adaboost, param_grid=param_grid, cv=5, scoring='accuracy', n_jobs=-1)\n",
    "grid_search.fit(X_train, y_train)\n",
    "\n",
    "# Mostramos los mejores parámetros y el desempeño\n",
    "print(\"Mejores parámetros:\", grid_search.best_params_)\n",
    "print(\"Mejor puntuación de validación cruzada:\", grid_search.best_score_)\n",
    "\n",
    "# Evaluamos el mejor modelo en los datos de prueba\n",
    "best_model = grid_search.best_estimator_\n",
    "y_pred = best_model.predict(X_test)\n",
    "print(\"Informe completo en datos de prueba\\n\", classification_report(y_test, y_pred))"
   ]
  },
  {
   "cell_type": "markdown",
   "id": "63b4b0c9-4202-42f0-841a-5c7164c77c35",
   "metadata": {},
   "source": [
    "### Aplicamos adaBoost con los mejores parámetros en el conjunto de test"
   ]
  },
  {
   "cell_type": "code",
   "execution_count": 43,
   "id": "49ad2d4f-3e7d-4e8a-9027-894222a30071",
   "metadata": {},
   "outputs": [
    {
     "name": "stdout",
     "output_type": "stream",
     "text": [
      "Matriz de confusión:\n",
      "[[28070   362]\n",
      " [    4    45]]\n",
      "Reporte de Clasificación:\n",
      "              precision    recall  f1-score   support\n",
      "\n",
      "   Correctas       1.00      0.99      0.99     28432\n",
      "Fraudulentas       0.11      0.92      0.20        49\n",
      "\n",
      "    accuracy                           0.99     28481\n",
      "   macro avg       0.56      0.95      0.60     28481\n",
      "weighted avg       1.00      0.99      0.99     28481\n",
      "\n"
     ]
    }
   ],
   "source": [
    "# Configura el modelo con los mejores parámetros\n",
    "base_estimator = LogisticRegression(max_iter=1000)   \n",
    "adaboost = AdaBoostClassifier(\n",
    "    estimator=base_estimator,\n",
    "    n_estimators=10,         \n",
    "    learning_rate=0.5,       \n",
    "    random_state=0           \n",
    ")\n",
    "\n",
    "\n",
    "X = df_reduce_RFC_instances_hard.drop(columns=['Class'])\n",
    "y = df_reduce_RFC_instances_hard['Class']\n",
    "\n",
    "# Entrenamos el modelo con los datos de entrenamiento\n",
    "adaboost.fit(X, y)\n",
    "\n",
    "# Evalúa el modelo en los datos de prueba\n",
    "y_pred_lr = adaboost.predict(X_reduce_RFC)\n",
    "\n",
    "# Calcular la matriz de confusión\n",
    "conf_matrix = confusion_matrix(y_test_final, y_pred_lr)\n",
    "report = classification_report(y_test_final, y_pred_lr, target_names=['Correctas', 'Fraudulentas'])\n",
    "# Mostrar la matriz de confusión\n",
    "print(\"Matriz de confusión:\")\n",
    "print(conf_matrix)\n",
    "\n",
    "print(\"Reporte de Clasificación:\")\n",
    "print(report)"
   ]
  },
  {
   "cell_type": "markdown",
   "id": "1fc6addf-b789-4899-a135-010cfe6555a5",
   "metadata": {},
   "source": [
    "## SVM"
   ]
  },
  {
   "cell_type": "code",
   "execution_count": 44,
   "id": "40b9ff13-b2d6-4470-9828-774cc4d5d3d9",
   "metadata": {},
   "outputs": [
    {
     "name": "stdout",
     "output_type": "stream",
     "text": [
      "Dimensiones de los conjuntos:\n",
      "Conjunto de entrenamiento: (708, 10), (708,)\n",
      "Conjunto de prueba: (178, 10), (178,)\n",
      "Mejores parámetros: {'estimator__C': 1, 'learning_rate': 0.5, 'n_estimators': 10}\n",
      "Mejor puntuación de validación cruzada: 0.9237338927180101\n",
      "Informe completo en datos de prueba\n",
      "               precision    recall  f1-score   support\n",
      "\n",
      "           0       0.85      0.96      0.90        89\n",
      "           1       0.95      0.83      0.89        89\n",
      "\n",
      "    accuracy                           0.89       178\n",
      "   macro avg       0.90      0.89      0.89       178\n",
      "weighted avg       0.90      0.89      0.89       178\n",
      "\n"
     ]
    }
   ],
   "source": [
    "X = df_reduce_RFC_instances_hard.drop(columns=['Class'])\n",
    "y = df_reduce_RFC_instances_hard['Class']\n",
    "from sklearn.svm import SVC\n",
    "\n",
    "X_train, X_test, y_train, y_test = train_test_split(X, y, test_size=0.2, stratify=y, random_state=42)\n",
    "print(\"Dimensiones de los conjuntos:\")\n",
    "print(f\"Conjunto de entrenamiento: {X_train.shape}, {y_train.shape}\")\n",
    "print(f\"Conjunto de prueba: {X_test.shape}, {y_test.shape}\")\n",
    "\n",
    "base_estimator = SVC(kernel='linear', random_state=0) \n",
    "adaboost = AdaBoostClassifier(estimator=base_estimator, random_state=0)\n",
    "\n",
    "\n",
    "param_grid = {\n",
    "    'n_estimators': [10, 50, 100],      # Número de clasificadores débiles\n",
    "    'learning_rate': [0.1, 0.5, 1.0],  # Tasa de aprendizaje\n",
    "    'estimator__C': [0.1, 1, 10]\n",
    "}\n",
    "\n",
    "# Creamos el GridSearchCV\n",
    "grid_search = GridSearchCV(estimator=adaboost, param_grid=param_grid, cv=5, scoring='accuracy', n_jobs=-1)\n",
    "grid_search.fit(X_train, y_train)\n",
    "\n",
    "# Mostramos los mejores parámetros y el desempeño\n",
    "print(\"Mejores parámetros:\", grid_search.best_params_)\n",
    "print(\"Mejor puntuación de validación cruzada:\", grid_search.best_score_)\n",
    "\n",
    "# Evaluamos el mejor modelo en los datos de prueba\n",
    "best_model = grid_search.best_estimator_\n",
    "y_pred = best_model.predict(X_test)\n",
    "print(\"Informe completo en datos de prueba\\n\", classification_report(y_test, y_pred))"
   ]
  },
  {
   "cell_type": "markdown",
   "id": "f4e93fdb-abae-43c6-a808-3dcdf599d370",
   "metadata": {},
   "source": [
    "### Aplicamos adaBoost con los mejores parámetros en el conjunto de test"
   ]
  },
  {
   "cell_type": "code",
   "execution_count": 45,
   "id": "0de5f53c-867e-4713-b5c6-32a3b2f93ae0",
   "metadata": {
    "scrolled": true
   },
   "outputs": [
    {
     "name": "stdout",
     "output_type": "stream",
     "text": [
      "Matriz de confusión:\n",
      "[[28186   246]\n",
      " [    5    44]]\n",
      "Reporte de Clasificación:\n",
      "              precision    recall  f1-score   support\n",
      "\n",
      "   Correctas       1.00      0.99      1.00     28432\n",
      "Fraudulentas       0.15      0.90      0.26        49\n",
      "\n",
      "    accuracy                           0.99     28481\n",
      "   macro avg       0.58      0.94      0.63     28481\n",
      "weighted avg       1.00      0.99      0.99     28481\n",
      "\n"
     ]
    }
   ],
   "source": [
    "# Configura el modelo con los mejores parámetros\n",
    "base_estimator = SVC(kernel='linear', random_state=0, C=1)   \n",
    "adaboost = AdaBoostClassifier(\n",
    "    estimator=base_estimator,\n",
    "    n_estimators=10,         \n",
    "    learning_rate=0.5,       \n",
    "    random_state=0           \n",
    ")\n",
    "\n",
    "\n",
    "X = df_reduce_RFC_instances_hard.drop(columns=['Class'])\n",
    "y = df_reduce_RFC_instances_hard['Class']\n",
    "\n",
    "# Entrenamos el modelo con los datos de entrenamiento\n",
    "adaboost.fit(X, y)\n",
    "\n",
    "# Evalúa el modelo en los datos de prueba\n",
    "y_pred_lr = adaboost.predict(X_reduce_RFC)\n",
    "\n",
    "# Calcular la matriz de confusión\n",
    "conf_matrix = confusion_matrix(y_test_final, y_pred_lr)\n",
    "report = classification_report(y_test_final, y_pred_lr, target_names=['Correctas', 'Fraudulentas'])\n",
    "# Mostrar la matriz de confusión\n",
    "print(\"Matriz de confusión:\")\n",
    "print(conf_matrix)\n",
    "\n",
    "print(\"Reporte de Clasificación:\")\n",
    "print(report)"
   ]
  }
 ],
 "metadata": {
  "kernelspec": {
   "display_name": "Python 3 (ipykernel)",
   "language": "python",
   "name": "python3"
  },
  "language_info": {
   "codemirror_mode": {
    "name": "ipython",
    "version": 3
   },
   "file_extension": ".py",
   "mimetype": "text/x-python",
   "name": "python",
   "nbconvert_exporter": "python",
   "pygments_lexer": "ipython3",
   "version": "3.13.0"
  }
 },
 "nbformat": 4,
 "nbformat_minor": 5
}
